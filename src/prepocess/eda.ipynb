{
 "cells": [
  {
   "cell_type": "code",
   "execution_count": 1,
   "metadata": {},
   "outputs": [],
   "source": [
    "import pandas as pd\n",
    "import numpy as np"
   ]
  },
  {
   "cell_type": "code",
   "execution_count": 40,
   "metadata": {},
   "outputs": [],
   "source": [
    "dfp = pd.read_csv('../../data/preprocessed/stock_prices_train.csv')\n",
    "df = pd.read_csv('../../data/train_files/stock_prices.csv')"
   ]
  },
  {
   "cell_type": "code",
   "execution_count": 13,
   "metadata": {},
   "outputs": [],
   "source": [
    "limit_sectors = {\n",
    "    'Foods':'Retail trade',\n",
    "    '-':'-',\n",
    "    'Commercial & wholesale trade':'Retail trade',\n",
    "    'Construction & materials':'Construction & materials',\n",
    "    'Steel & nonferrous metals':'Construction & materials',\n",
    "    'Energy resources':'Energy resources',\n",
    "    'It & services, others':'It & services, others',\n",
    "    'Machinery':'Machinery',\n",
    "    'Pharmaceutical':'Pharmaceutical',\n",
    "    'Real estate':'Real estate',\n",
    "    'Transportation & logistics':'Transportation & logistics',\n",
    "    'Financials （ex banks）':'Banks',\n",
    "    'Retail trade':'Retail trade',\n",
    "    'Raw materials & chemicals':'Construction & materials',\n",
    "    'Electric appliances & precision instruments':'Machinery',\n",
    "    'Automobiles & transportation equipment':'Transportation & logistics',\n",
    "    'Banks':'Banks',\n",
    "    'Electric power & gas':'Energy resources'\n",
    "}"
   ]
  },
  {
   "cell_type": "code",
   "execution_count": 9,
   "metadata": {},
   "outputs": [
    {
     "data": {
      "text/plain": [
       "It & services, others                          1188\n",
       "-                                               500\n",
       "Retail trade                                    359\n",
       "Commercial & wholesale trade                    320\n",
       "Construction & materials                        316\n",
       "Electric appliances & precision instruments     305\n",
       "Raw materials & chemicals                       294\n",
       "Machinery                                       230\n",
       "Real estate                                     143\n",
       "Foods                                           137\n",
       "Transportation & logistics                      119\n",
       "Automobiles & transportation equipment          114\n",
       "Financials （ex banks）                            97\n",
       "Banks                                            93\n",
       "Steel & nonferrous metals                        80\n",
       "Pharmaceutical                                   77\n",
       "Electric power & gas                             25\n",
       "Energy resources                                 20\n",
       "Name: Sector, dtype: int64"
      ]
     },
     "execution_count": 9,
     "metadata": {},
     "output_type": "execute_result"
    }
   ],
   "source": [
    "external_features[\"Sector\"].value_counts()"
   ]
  },
  {
   "cell_type": "code",
   "execution_count": 14,
   "metadata": {},
   "outputs": [],
   "source": [
    "stock_list = pd.read_csv('../../data/stock_list.csv')\n",
    "\n",
    "stock_list[\"Sector\"] = [s.rstrip().lower().capitalize() for s in stock_list['17SectorName']]\n",
    "stock_list[\"Capitalization\"] = (stock_list['MarketCapitalization'] - stock_list['MarketCapitalization'].mean()) / stock_list['MarketCapitalization'].std()\n",
    "stock_list[\"Shares\"] = (stock_list['NumberOfShares'] - stock_list['NumberOfShares'].mean()) / stock_list['NumberOfShares'].std()"
   ]
  }
 ],
 "metadata": {
  "kernelspec": {
   "display_name": "Python 3.9.12 ('base')",
   "language": "python",
   "name": "python3"
  },
  "language_info": {
   "codemirror_mode": {
    "name": "ipython",
    "version": 3
   },
   "file_extension": ".py",
   "mimetype": "text/x-python",
   "name": "python",
   "nbconvert_exporter": "python",
   "pygments_lexer": "ipython3",
   "version": "3.9.12"
  },
  "orig_nbformat": 4,
  "vscode": {
   "interpreter": {
    "hash": "41a3af9e8a224a38c30b28ede46ccf9b389caf1bbeda9ceffb5dc9a9d4076ee6"
   }
  }
 },
 "nbformat": 4,
 "nbformat_minor": 2
}
