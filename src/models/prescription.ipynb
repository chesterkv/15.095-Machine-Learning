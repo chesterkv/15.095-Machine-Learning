{
 "cells": [
  {
   "cell_type": "code",
   "execution_count": 32,
   "metadata": {},
   "outputs": [],
   "source": [
    "using CSV, DataFrames, Random, Gurobi"
   ]
  },
  {
   "cell_type": "code",
   "execution_count": 33,
   "metadata": {},
   "outputs": [
    {
     "data": {
      "text/plain": [
       "466507-element Vector{Float64}:\n",
       "  0.0076267384477344\n",
       " -0.0160284951024042\n",
       "  0.0167420814479637\n",
       " -0.0111259457053849\n",
       "  0.0022502250225022\n",
       "  0.0035922766052987\n",
       "  0.0062639821029082\n",
       " -0.0022232103156958\n",
       "  0.0164884135472371\n",
       "  0.0258658483121438\n",
       "  0.0192307692307691\n",
       " -0.0054507337526205\n",
       " -0.0126475548060708\n",
       "  ⋮\n",
       "  0.0\n",
       " -0.0055865921787709\n",
       " -0.0126404494382021\n",
       "  0.0042674253200569\n",
       " -0.0254957507082153\n",
       " -0.0290697674418605\n",
       " -0.0014970059880239\n",
       "  0.0269865067466266\n",
       " -0.0014598540145985\n",
       "  0.0175438596491228\n",
       "  0.014367816091954\n",
       "  0.0184135977337109"
      ]
     },
     "execution_count": 33,
     "metadata": {},
     "output_type": "execute_result"
    }
   ],
   "source": [
    "# Read in the data\n",
    "df = CSV.read(\"../../data/preprocessed/stock_prices_train.csv\",DataFrame)\n",
    "# remove missing \n",
    "df = df[completecases(df),:]\n",
    "# drop RowID, Date, SecuritiesCode from df\n",
    "y = df[:, :Target]\n",
    "#X = df[:, Not([1,2,3,12])] why removing 3 and 12?\n",
    "X = df[:, Not([1,2])]\n",
    "# split into train/test\n",
    "train_size = Int(floor(0.8*size(X,1)))\n",
    "X_train = X[1:train_size,:]\n",
    "X_test = X[train_size+1:end,:]\n",
    "y_train = y[1:train_size]\n",
    "y_test = y[train_size+1:end]"
   ]
  },
  {
   "cell_type": "code",
   "execution_count": 34,
   "metadata": {},
   "outputs": [
    {
     "data": {
      "text/html": [
       "<div><div style = \"float: left;\"><span>10×15 DataFrame</span></div><div style = \"clear: both;\"></div></div><div class = \"data-frame\" style = \"overflow-x: scroll;\"><table class = \"data-frame\" style = \"margin-bottom: 6px;\"><thead><tr class = \"header\"><th class = \"rowNumber\" style = \"font-weight: bold; text-align: right;\">Row</th><th style = \"text-align: left;\">Date</th><th style = \"text-align: left;\">SecuritiesCode</th><th style = \"text-align: left;\">Open</th><th style = \"text-align: left;\">High</th><th style = \"text-align: left;\">Low</th><th style = \"text-align: left;\">Volume</th><th style = \"text-align: left;\">Target</th><th style = \"text-align: left;\">AdjustedClose</th><th style = \"text-align: left;\">return_20days</th><th style = \"text-align: left;\">volatility_20days</th><th style = \"text-align: left;\">return_40days</th><th style = \"text-align: left;\">volatility_40days</th><th style = \"text-align: left;\">return_60days</th><th style = \"text-align: left;\">volatility_60days</th><th style = \"text-align: left;\">Drawdown</th></tr><tr class = \"subheader headerLastRow\"><th class = \"rowNumber\" style = \"font-weight: bold; text-align: right;\"></th><th title = \"Date\" style = \"text-align: left;\">Date</th><th title = \"Int64\" style = \"text-align: left;\">Int64</th><th title = \"Float64\" style = \"text-align: left;\">Float64</th><th title = \"Float64\" style = \"text-align: left;\">Float64</th><th title = \"Float64\" style = \"text-align: left;\">Float64</th><th title = \"Int64\" style = \"text-align: left;\">Int64</th><th title = \"Float64\" style = \"text-align: left;\">Float64</th><th title = \"Float64\" style = \"text-align: left;\">Float64</th><th title = \"Float64\" style = \"text-align: left;\">Float64</th><th title = \"Float64\" style = \"text-align: left;\">Float64</th><th title = \"Float64\" style = \"text-align: left;\">Float64</th><th title = \"Float64\" style = \"text-align: left;\">Float64</th><th title = \"Float64\" style = \"text-align: left;\">Float64</th><th title = \"Float64\" style = \"text-align: left;\">Float64</th><th title = \"Float64\" style = \"text-align: left;\">Float64</th></tr></thead><tbody><tr><td class = \"rowNumber\" style = \"font-weight: bold; text-align: right;\">1</td><td style = \"text-align: left;\">2017-01-04</td><td style = \"text-align: right;\">1301</td><td style = \"text-align: right;\">2734.0</td><td style = \"text-align: right;\">2755.0</td><td style = \"text-align: right;\">2730.0</td><td style = \"text-align: right;\">31400</td><td style = \"text-align: right;\">0.00073046</td><td style = \"text-align: right;\">2742.0</td><td style = \"text-align: right;\">0.0</td><td style = \"text-align: right;\">0.0</td><td style = \"text-align: right;\">0.0</td><td style = \"text-align: right;\">0.0</td><td style = \"text-align: right;\">0.0</td><td style = \"text-align: right;\">0.0</td><td style = \"text-align: right;\">0.0</td></tr><tr><td class = \"rowNumber\" style = \"font-weight: bold; text-align: right;\">2</td><td style = \"text-align: left;\">2017-01-05</td><td style = \"text-align: right;\">1301</td><td style = \"text-align: right;\">2743.0</td><td style = \"text-align: right;\">2747.0</td><td style = \"text-align: right;\">2735.0</td><td style = \"text-align: right;\">17900</td><td style = \"text-align: right;\">0.00291971</td><td style = \"text-align: right;\">2738.0</td><td style = \"text-align: right;\">0.0</td><td style = \"text-align: right;\">0.0</td><td style = \"text-align: right;\">0.0</td><td style = \"text-align: right;\">0.0</td><td style = \"text-align: right;\">0.0</td><td style = \"text-align: right;\">0.0</td><td style = \"text-align: right;\">0.0</td></tr><tr><td class = \"rowNumber\" style = \"font-weight: bold; text-align: right;\">3</td><td style = \"text-align: left;\">2017-01-06</td><td style = \"text-align: right;\">1301</td><td style = \"text-align: right;\">2734.0</td><td style = \"text-align: right;\">2744.0</td><td style = \"text-align: right;\">2720.0</td><td style = \"text-align: right;\">19900</td><td style = \"text-align: right;\">-0.0010917</td><td style = \"text-align: right;\">2740.0</td><td style = \"text-align: right;\">0.0</td><td style = \"text-align: right;\">0.0</td><td style = \"text-align: right;\">0.0</td><td style = \"text-align: right;\">0.0</td><td style = \"text-align: right;\">0.0</td><td style = \"text-align: right;\">0.0</td><td style = \"text-align: right;\">0.00401141</td></tr><tr><td class = \"rowNumber\" style = \"font-weight: bold; text-align: right;\">4</td><td style = \"text-align: left;\">2017-01-10</td><td style = \"text-align: right;\">1301</td><td style = \"text-align: right;\">2745.0</td><td style = \"text-align: right;\">2754.0</td><td style = \"text-align: right;\">2735.0</td><td style = \"text-align: right;\">24200</td><td style = \"text-align: right;\">-0.00510018</td><td style = \"text-align: right;\">2748.0</td><td style = \"text-align: right;\">0.0</td><td style = \"text-align: right;\">0.0</td><td style = \"text-align: right;\">0.0</td><td style = \"text-align: right;\">0.0</td><td style = \"text-align: right;\">0.0</td><td style = \"text-align: right;\">0.0</td><td style = \"text-align: right;\">0.00801989</td></tr><tr><td class = \"rowNumber\" style = \"font-weight: bold; text-align: right;\">5</td><td style = \"text-align: left;\">2017-01-11</td><td style = \"text-align: right;\">1301</td><td style = \"text-align: right;\">2748.0</td><td style = \"text-align: right;\">2752.0</td><td style = \"text-align: right;\">2737.0</td><td style = \"text-align: right;\">9300</td><td style = \"text-align: right;\">-0.0032955</td><td style = \"text-align: right;\">2745.0</td><td style = \"text-align: right;\">0.0</td><td style = \"text-align: right;\">0.0</td><td style = \"text-align: right;\">0.0</td><td style = \"text-align: right;\">0.0</td><td style = \"text-align: right;\">0.0</td><td style = \"text-align: right;\">0.0</td><td style = \"text-align: right;\">0.0062152</td></tr><tr><td class = \"rowNumber\" style = \"font-weight: bold; text-align: right;\">6</td><td style = \"text-align: left;\">2017-01-12</td><td style = \"text-align: right;\">1301</td><td style = \"text-align: right;\">2745.0</td><td style = \"text-align: right;\">2747.0</td><td style = \"text-align: right;\">2703.0</td><td style = \"text-align: right;\">28700</td><td style = \"text-align: right;\">-0.00661278</td><td style = \"text-align: right;\">2731.0</td><td style = \"text-align: right;\">0.0</td><td style = \"text-align: right;\">0.0</td><td style = \"text-align: right;\">0.0</td><td style = \"text-align: right;\">0.0</td><td style = \"text-align: right;\">0.0</td><td style = \"text-align: right;\">0.0</td><td style = \"text-align: right;\">0.00953249</td></tr><tr><td class = \"rowNumber\" style = \"font-weight: bold; text-align: right;\">7</td><td style = \"text-align: left;\">2017-01-13</td><td style = \"text-align: right;\">1301</td><td style = \"text-align: right;\">2707.0</td><td style = \"text-align: right;\">2730.0</td><td style = \"text-align: right;\">2707.0</td><td style = \"text-align: right;\">19400</td><td style = \"text-align: right;\">-0.0066568</td><td style = \"text-align: right;\">2722.0</td><td style = \"text-align: right;\">0.0</td><td style = \"text-align: right;\">0.0</td><td style = \"text-align: right;\">0.0</td><td style = \"text-align: right;\">0.0</td><td style = \"text-align: right;\">0.0</td><td style = \"text-align: right;\">0.0</td><td style = \"text-align: right;\">0.00957651</td></tr><tr><td class = \"rowNumber\" style = \"font-weight: bold; text-align: right;\">8</td><td style = \"text-align: left;\">2017-01-16</td><td style = \"text-align: right;\">1301</td><td style = \"text-align: right;\">2725.0</td><td style = \"text-align: right;\">2725.0</td><td style = \"text-align: right;\">2696.0</td><td style = \"text-align: right;\">20100</td><td style = \"text-align: right;\">0.00297841</td><td style = \"text-align: right;\">2704.0</td><td style = \"text-align: right;\">0.0</td><td style = \"text-align: right;\">0.0</td><td style = \"text-align: right;\">0.0</td><td style = \"text-align: right;\">0.0</td><td style = \"text-align: right;\">0.0</td><td style = \"text-align: right;\">0.0</td><td style = \"text-align: right;\">0.0</td></tr><tr><td class = \"rowNumber\" style = \"font-weight: bold; text-align: right;\">9</td><td style = \"text-align: left;\">2017-01-17</td><td style = \"text-align: right;\">1301</td><td style = \"text-align: right;\">2702.0</td><td style = \"text-align: right;\">2704.0</td><td style = \"text-align: right;\">2682.0</td><td style = \"text-align: right;\">18400</td><td style = \"text-align: right;\">0.00185598</td><td style = \"text-align: right;\">2686.0</td><td style = \"text-align: right;\">0.0</td><td style = \"text-align: right;\">0.0</td><td style = \"text-align: right;\">0.0</td><td style = \"text-align: right;\">0.0</td><td style = \"text-align: right;\">0.0</td><td style = \"text-align: right;\">0.0</td><td style = \"text-align: right;\">0.00112243</td></tr><tr><td class = \"rowNumber\" style = \"font-weight: bold; text-align: right;\">10</td><td style = \"text-align: left;\">2017-01-18</td><td style = \"text-align: right;\">1301</td><td style = \"text-align: right;\">2689.0</td><td style = \"text-align: right;\">2695.0</td><td style = \"text-align: right;\">2681.0</td><td style = \"text-align: right;\">12100</td><td style = \"text-align: right;\">0.0140793</td><td style = \"text-align: right;\">2694.0</td><td style = \"text-align: right;\">0.0</td><td style = \"text-align: right;\">0.0</td><td style = \"text-align: right;\">0.0</td><td style = \"text-align: right;\">0.0</td><td style = \"text-align: right;\">0.0</td><td style = \"text-align: right;\">0.0</td><td style = \"text-align: right;\">0.0</td></tr></tbody></table></div>"
      ],
      "text/latex": [
       "\\begin{tabular}{r|ccccccccc}\n",
       "\t& Date & SecuritiesCode & Open & High & Low & Volume & Target & AdjustedClose & \\\\\n",
       "\t\\hline\n",
       "\t& Date & Int64 & Float64 & Float64 & Float64 & Int64 & Float64 & Float64 & \\\\\n",
       "\t\\hline\n",
       "\t1 & 2017-01-04 & 1301 & 2734.0 & 2755.0 & 2730.0 & 31400 & 0.00073046 & 2742.0 & $\\dots$ \\\\\n",
       "\t2 & 2017-01-05 & 1301 & 2743.0 & 2747.0 & 2735.0 & 17900 & 0.00291971 & 2738.0 & $\\dots$ \\\\\n",
       "\t3 & 2017-01-06 & 1301 & 2734.0 & 2744.0 & 2720.0 & 19900 & -0.0010917 & 2740.0 & $\\dots$ \\\\\n",
       "\t4 & 2017-01-10 & 1301 & 2745.0 & 2754.0 & 2735.0 & 24200 & -0.00510018 & 2748.0 & $\\dots$ \\\\\n",
       "\t5 & 2017-01-11 & 1301 & 2748.0 & 2752.0 & 2737.0 & 9300 & -0.0032955 & 2745.0 & $\\dots$ \\\\\n",
       "\t6 & 2017-01-12 & 1301 & 2745.0 & 2747.0 & 2703.0 & 28700 & -0.00661278 & 2731.0 & $\\dots$ \\\\\n",
       "\t7 & 2017-01-13 & 1301 & 2707.0 & 2730.0 & 2707.0 & 19400 & -0.0066568 & 2722.0 & $\\dots$ \\\\\n",
       "\t8 & 2017-01-16 & 1301 & 2725.0 & 2725.0 & 2696.0 & 20100 & 0.00297841 & 2704.0 & $\\dots$ \\\\\n",
       "\t9 & 2017-01-17 & 1301 & 2702.0 & 2704.0 & 2682.0 & 18400 & 0.00185598 & 2686.0 & $\\dots$ \\\\\n",
       "\t10 & 2017-01-18 & 1301 & 2689.0 & 2695.0 & 2681.0 & 12100 & 0.0140793 & 2694.0 & $\\dots$ \\\\\n",
       "\\end{tabular}\n"
      ],
      "text/plain": [
       "\u001b[1m10×15 DataFrame\u001b[0m\n",
       "\u001b[1m Row \u001b[0m│\u001b[1m Date       \u001b[0m\u001b[1m SecuritiesCode \u001b[0m\u001b[1m Open    \u001b[0m\u001b[1m High    \u001b[0m\u001b[1m Low     \u001b[0m\u001b[1m Volume \u001b[0m\u001b[1m Target  \u001b[0m ⋯\n",
       "     │\u001b[90m Date       \u001b[0m\u001b[90m Int64          \u001b[0m\u001b[90m Float64 \u001b[0m\u001b[90m Float64 \u001b[0m\u001b[90m Float64 \u001b[0m\u001b[90m Int64  \u001b[0m\u001b[90m Float64 \u001b[0m ⋯\n",
       "─────┼──────────────────────────────────────────────────────────────────────────\n",
       "   1 │ 2017-01-04            1301   2734.0   2755.0   2730.0   31400   0.00073 ⋯\n",
       "   2 │ 2017-01-05            1301   2743.0   2747.0   2735.0   17900   0.00291\n",
       "   3 │ 2017-01-06            1301   2734.0   2744.0   2720.0   19900  -0.00109\n",
       "   4 │ 2017-01-10            1301   2745.0   2754.0   2735.0   24200  -0.00510\n",
       "   5 │ 2017-01-11            1301   2748.0   2752.0   2737.0    9300  -0.00329 ⋯\n",
       "   6 │ 2017-01-12            1301   2745.0   2747.0   2703.0   28700  -0.00661\n",
       "   7 │ 2017-01-13            1301   2707.0   2730.0   2707.0   19400  -0.00665\n",
       "   8 │ 2017-01-16            1301   2725.0   2725.0   2696.0   20100   0.00297\n",
       "   9 │ 2017-01-17            1301   2702.0   2704.0   2682.0   18400   0.00185 ⋯\n",
       "  10 │ 2017-01-18            1301   2689.0   2695.0   2681.0   12100   0.01407\n",
       "\u001b[36m                                                               9 columns omitted\u001b[0m"
      ]
     },
     "execution_count": 34,
     "metadata": {},
     "output_type": "execute_result"
    }
   ],
   "source": [
    "first(df, 10)"
   ]
  },
  {
   "cell_type": "code",
   "execution_count": 35,
   "metadata": {},
   "outputs": [
    {
     "data": {
      "text/html": [
       "<div><div style = \"float: left;\"><span>10×13 DataFrame</span></div><div style = \"clear: both;\"></div></div><div class = \"data-frame\" style = \"overflow-x: scroll;\"><table class = \"data-frame\" style = \"margin-bottom: 6px;\"><thead><tr class = \"header\"><th class = \"rowNumber\" style = \"font-weight: bold; text-align: right;\">Row</th><th style = \"text-align: left;\">Open</th><th style = \"text-align: left;\">High</th><th style = \"text-align: left;\">Low</th><th style = \"text-align: left;\">Volume</th><th style = \"text-align: left;\">Target</th><th style = \"text-align: left;\">AdjustedClose</th><th style = \"text-align: left;\">return_20days</th><th style = \"text-align: left;\">volatility_20days</th><th style = \"text-align: left;\">return_40days</th><th style = \"text-align: left;\">volatility_40days</th><th style = \"text-align: left;\">return_60days</th><th style = \"text-align: left;\">volatility_60days</th><th style = \"text-align: left;\">Drawdown</th></tr><tr class = \"subheader headerLastRow\"><th class = \"rowNumber\" style = \"font-weight: bold; text-align: right;\"></th><th title = \"Float64\" style = \"text-align: left;\">Float64</th><th title = \"Float64\" style = \"text-align: left;\">Float64</th><th title = \"Float64\" style = \"text-align: left;\">Float64</th><th title = \"Int64\" style = \"text-align: left;\">Int64</th><th title = \"Float64\" style = \"text-align: left;\">Float64</th><th title = \"Float64\" style = \"text-align: left;\">Float64</th><th title = \"Float64\" style = \"text-align: left;\">Float64</th><th title = \"Float64\" style = \"text-align: left;\">Float64</th><th title = \"Float64\" style = \"text-align: left;\">Float64</th><th title = \"Float64\" style = \"text-align: left;\">Float64</th><th title = \"Float64\" style = \"text-align: left;\">Float64</th><th title = \"Float64\" style = \"text-align: left;\">Float64</th><th title = \"Float64\" style = \"text-align: left;\">Float64</th></tr></thead><tbody><tr><td class = \"rowNumber\" style = \"font-weight: bold; text-align: right;\">1</td><td style = \"text-align: right;\">2734.0</td><td style = \"text-align: right;\">2755.0</td><td style = \"text-align: right;\">2730.0</td><td style = \"text-align: right;\">31400</td><td style = \"text-align: right;\">0.00073046</td><td style = \"text-align: right;\">2742.0</td><td style = \"text-align: right;\">0.0</td><td style = \"text-align: right;\">0.0</td><td style = \"text-align: right;\">0.0</td><td style = \"text-align: right;\">0.0</td><td style = \"text-align: right;\">0.0</td><td style = \"text-align: right;\">0.0</td><td style = \"text-align: right;\">0.0</td></tr><tr><td class = \"rowNumber\" style = \"font-weight: bold; text-align: right;\">2</td><td style = \"text-align: right;\">2743.0</td><td style = \"text-align: right;\">2747.0</td><td style = \"text-align: right;\">2735.0</td><td style = \"text-align: right;\">17900</td><td style = \"text-align: right;\">0.00291971</td><td style = \"text-align: right;\">2738.0</td><td style = \"text-align: right;\">0.0</td><td style = \"text-align: right;\">0.0</td><td style = \"text-align: right;\">0.0</td><td style = \"text-align: right;\">0.0</td><td style = \"text-align: right;\">0.0</td><td style = \"text-align: right;\">0.0</td><td style = \"text-align: right;\">0.0</td></tr><tr><td class = \"rowNumber\" style = \"font-weight: bold; text-align: right;\">3</td><td style = \"text-align: right;\">2734.0</td><td style = \"text-align: right;\">2744.0</td><td style = \"text-align: right;\">2720.0</td><td style = \"text-align: right;\">19900</td><td style = \"text-align: right;\">-0.0010917</td><td style = \"text-align: right;\">2740.0</td><td style = \"text-align: right;\">0.0</td><td style = \"text-align: right;\">0.0</td><td style = \"text-align: right;\">0.0</td><td style = \"text-align: right;\">0.0</td><td style = \"text-align: right;\">0.0</td><td style = \"text-align: right;\">0.0</td><td style = \"text-align: right;\">0.00401141</td></tr><tr><td class = \"rowNumber\" style = \"font-weight: bold; text-align: right;\">4</td><td style = \"text-align: right;\">2745.0</td><td style = \"text-align: right;\">2754.0</td><td style = \"text-align: right;\">2735.0</td><td style = \"text-align: right;\">24200</td><td style = \"text-align: right;\">-0.00510018</td><td style = \"text-align: right;\">2748.0</td><td style = \"text-align: right;\">0.0</td><td style = \"text-align: right;\">0.0</td><td style = \"text-align: right;\">0.0</td><td style = \"text-align: right;\">0.0</td><td style = \"text-align: right;\">0.0</td><td style = \"text-align: right;\">0.0</td><td style = \"text-align: right;\">0.00801989</td></tr><tr><td class = \"rowNumber\" style = \"font-weight: bold; text-align: right;\">5</td><td style = \"text-align: right;\">2748.0</td><td style = \"text-align: right;\">2752.0</td><td style = \"text-align: right;\">2737.0</td><td style = \"text-align: right;\">9300</td><td style = \"text-align: right;\">-0.0032955</td><td style = \"text-align: right;\">2745.0</td><td style = \"text-align: right;\">0.0</td><td style = \"text-align: right;\">0.0</td><td style = \"text-align: right;\">0.0</td><td style = \"text-align: right;\">0.0</td><td style = \"text-align: right;\">0.0</td><td style = \"text-align: right;\">0.0</td><td style = \"text-align: right;\">0.0062152</td></tr><tr><td class = \"rowNumber\" style = \"font-weight: bold; text-align: right;\">6</td><td style = \"text-align: right;\">2745.0</td><td style = \"text-align: right;\">2747.0</td><td style = \"text-align: right;\">2703.0</td><td style = \"text-align: right;\">28700</td><td style = \"text-align: right;\">-0.00661278</td><td style = \"text-align: right;\">2731.0</td><td style = \"text-align: right;\">0.0</td><td style = \"text-align: right;\">0.0</td><td style = \"text-align: right;\">0.0</td><td style = \"text-align: right;\">0.0</td><td style = \"text-align: right;\">0.0</td><td style = \"text-align: right;\">0.0</td><td style = \"text-align: right;\">0.00953249</td></tr><tr><td class = \"rowNumber\" style = \"font-weight: bold; text-align: right;\">7</td><td style = \"text-align: right;\">2707.0</td><td style = \"text-align: right;\">2730.0</td><td style = \"text-align: right;\">2707.0</td><td style = \"text-align: right;\">19400</td><td style = \"text-align: right;\">-0.0066568</td><td style = \"text-align: right;\">2722.0</td><td style = \"text-align: right;\">0.0</td><td style = \"text-align: right;\">0.0</td><td style = \"text-align: right;\">0.0</td><td style = \"text-align: right;\">0.0</td><td style = \"text-align: right;\">0.0</td><td style = \"text-align: right;\">0.0</td><td style = \"text-align: right;\">0.00957651</td></tr><tr><td class = \"rowNumber\" style = \"font-weight: bold; text-align: right;\">8</td><td style = \"text-align: right;\">2725.0</td><td style = \"text-align: right;\">2725.0</td><td style = \"text-align: right;\">2696.0</td><td style = \"text-align: right;\">20100</td><td style = \"text-align: right;\">0.00297841</td><td style = \"text-align: right;\">2704.0</td><td style = \"text-align: right;\">0.0</td><td style = \"text-align: right;\">0.0</td><td style = \"text-align: right;\">0.0</td><td style = \"text-align: right;\">0.0</td><td style = \"text-align: right;\">0.0</td><td style = \"text-align: right;\">0.0</td><td style = \"text-align: right;\">0.0</td></tr><tr><td class = \"rowNumber\" style = \"font-weight: bold; text-align: right;\">9</td><td style = \"text-align: right;\">2702.0</td><td style = \"text-align: right;\">2704.0</td><td style = \"text-align: right;\">2682.0</td><td style = \"text-align: right;\">18400</td><td style = \"text-align: right;\">0.00185598</td><td style = \"text-align: right;\">2686.0</td><td style = \"text-align: right;\">0.0</td><td style = \"text-align: right;\">0.0</td><td style = \"text-align: right;\">0.0</td><td style = \"text-align: right;\">0.0</td><td style = \"text-align: right;\">0.0</td><td style = \"text-align: right;\">0.0</td><td style = \"text-align: right;\">0.00112243</td></tr><tr><td class = \"rowNumber\" style = \"font-weight: bold; text-align: right;\">10</td><td style = \"text-align: right;\">2689.0</td><td style = \"text-align: right;\">2695.0</td><td style = \"text-align: right;\">2681.0</td><td style = \"text-align: right;\">12100</td><td style = \"text-align: right;\">0.0140793</td><td style = \"text-align: right;\">2694.0</td><td style = \"text-align: right;\">0.0</td><td style = \"text-align: right;\">0.0</td><td style = \"text-align: right;\">0.0</td><td style = \"text-align: right;\">0.0</td><td style = \"text-align: right;\">0.0</td><td style = \"text-align: right;\">0.0</td><td style = \"text-align: right;\">0.0</td></tr></tbody></table></div>"
      ],
      "text/latex": [
       "\\begin{tabular}{r|ccccccccc}\n",
       "\t& Open & High & Low & Volume & Target & AdjustedClose & return\\_20days & volatility\\_20days & \\\\\n",
       "\t\\hline\n",
       "\t& Float64 & Float64 & Float64 & Int64 & Float64 & Float64 & Float64 & Float64 & \\\\\n",
       "\t\\hline\n",
       "\t1 & 2734.0 & 2755.0 & 2730.0 & 31400 & 0.00073046 & 2742.0 & 0.0 & 0.0 & $\\dots$ \\\\\n",
       "\t2 & 2743.0 & 2747.0 & 2735.0 & 17900 & 0.00291971 & 2738.0 & 0.0 & 0.0 & $\\dots$ \\\\\n",
       "\t3 & 2734.0 & 2744.0 & 2720.0 & 19900 & -0.0010917 & 2740.0 & 0.0 & 0.0 & $\\dots$ \\\\\n",
       "\t4 & 2745.0 & 2754.0 & 2735.0 & 24200 & -0.00510018 & 2748.0 & 0.0 & 0.0 & $\\dots$ \\\\\n",
       "\t5 & 2748.0 & 2752.0 & 2737.0 & 9300 & -0.0032955 & 2745.0 & 0.0 & 0.0 & $\\dots$ \\\\\n",
       "\t6 & 2745.0 & 2747.0 & 2703.0 & 28700 & -0.00661278 & 2731.0 & 0.0 & 0.0 & $\\dots$ \\\\\n",
       "\t7 & 2707.0 & 2730.0 & 2707.0 & 19400 & -0.0066568 & 2722.0 & 0.0 & 0.0 & $\\dots$ \\\\\n",
       "\t8 & 2725.0 & 2725.0 & 2696.0 & 20100 & 0.00297841 & 2704.0 & 0.0 & 0.0 & $\\dots$ \\\\\n",
       "\t9 & 2702.0 & 2704.0 & 2682.0 & 18400 & 0.00185598 & 2686.0 & 0.0 & 0.0 & $\\dots$ \\\\\n",
       "\t10 & 2689.0 & 2695.0 & 2681.0 & 12100 & 0.0140793 & 2694.0 & 0.0 & 0.0 & $\\dots$ \\\\\n",
       "\\end{tabular}\n"
      ],
      "text/plain": [
       "\u001b[1m10×13 DataFrame\u001b[0m\n",
       "\u001b[1m Row \u001b[0m│\u001b[1m Open    \u001b[0m\u001b[1m High    \u001b[0m\u001b[1m Low     \u001b[0m\u001b[1m Volume \u001b[0m\u001b[1m Target      \u001b[0m\u001b[1m AdjustedClose \u001b[0m\u001b[1m return_2\u001b[0m ⋯\n",
       "     │\u001b[90m Float64 \u001b[0m\u001b[90m Float64 \u001b[0m\u001b[90m Float64 \u001b[0m\u001b[90m Int64  \u001b[0m\u001b[90m Float64     \u001b[0m\u001b[90m Float64       \u001b[0m\u001b[90m Float64 \u001b[0m ⋯\n",
       "─────┼──────────────────────────────────────────────────────────────────────────\n",
       "   1 │  2734.0   2755.0   2730.0   31400   0.00073046         2742.0           ⋯\n",
       "   2 │  2743.0   2747.0   2735.0   17900   0.00291971         2738.0\n",
       "   3 │  2734.0   2744.0   2720.0   19900  -0.0010917          2740.0\n",
       "   4 │  2745.0   2754.0   2735.0   24200  -0.00510018         2748.0\n",
       "   5 │  2748.0   2752.0   2737.0    9300  -0.0032955          2745.0           ⋯\n",
       "   6 │  2745.0   2747.0   2703.0   28700  -0.00661278         2731.0\n",
       "   7 │  2707.0   2730.0   2707.0   19400  -0.0066568          2722.0\n",
       "   8 │  2725.0   2725.0   2696.0   20100   0.00297841         2704.0\n",
       "   9 │  2702.0   2704.0   2682.0   18400   0.00185598         2686.0           ⋯\n",
       "  10 │  2689.0   2695.0   2681.0   12100   0.0140793          2694.0\n",
       "\u001b[36m                                                               7 columns omitted\u001b[0m"
      ]
     },
     "execution_count": 35,
     "metadata": {},
     "output_type": "execute_result"
    }
   ],
   "source": [
    "first(X_train, 10)"
   ]
  },
  {
   "cell_type": "code",
   "execution_count": 36,
   "metadata": {},
   "outputs": [
    {
     "data": {
      "text/html": [
       "<div><div style = \"float: left;\"><span>10×15 DataFrame</span></div><div style = \"clear: both;\"></div></div><div class = \"data-frame\" style = \"overflow-x: scroll;\"><table class = \"data-frame\" style = \"margin-bottom: 6px;\"><thead><tr class = \"header\"><th class = \"rowNumber\" style = \"font-weight: bold; text-align: right;\">Row</th><th style = \"text-align: left;\">Date</th><th style = \"text-align: left;\">SecuritiesCode</th><th style = \"text-align: left;\">Open</th><th style = \"text-align: left;\">High</th><th style = \"text-align: left;\">Low</th><th style = \"text-align: left;\">Volume</th><th style = \"text-align: left;\">Target</th><th style = \"text-align: left;\">AdjustedClose</th><th style = \"text-align: left;\">return_20days</th><th style = \"text-align: left;\">volatility_20days</th><th style = \"text-align: left;\">return_40days</th><th style = \"text-align: left;\">volatility_40days</th><th style = \"text-align: left;\">return_60days</th><th style = \"text-align: left;\">volatility_60days</th><th style = \"text-align: left;\">Drawdown</th></tr><tr class = \"subheader headerLastRow\"><th class = \"rowNumber\" style = \"font-weight: bold; text-align: right;\"></th><th title = \"Date\" style = \"text-align: left;\">Date</th><th title = \"Int64\" style = \"text-align: left;\">Int64</th><th title = \"Float64\" style = \"text-align: left;\">Float64</th><th title = \"Float64\" style = \"text-align: left;\">Float64</th><th title = \"Float64\" style = \"text-align: left;\">Float64</th><th title = \"Int64\" style = \"text-align: left;\">Int64</th><th title = \"Float64\" style = \"text-align: left;\">Float64</th><th title = \"Float64\" style = \"text-align: left;\">Float64</th><th title = \"Float64\" style = \"text-align: left;\">Float64</th><th title = \"Float64\" style = \"text-align: left;\">Float64</th><th title = \"Float64\" style = \"text-align: left;\">Float64</th><th title = \"Float64\" style = \"text-align: left;\">Float64</th><th title = \"Float64\" style = \"text-align: left;\">Float64</th><th title = \"Float64\" style = \"text-align: left;\">Float64</th><th title = \"Float64\" style = \"text-align: left;\">Float64</th></tr></thead><tbody><tr><td class = \"rowNumber\" style = \"font-weight: bold; text-align: right;\">1</td><td style = \"text-align: left;\">2021-12-06</td><td style = \"text-align: right;\">1301</td><td style = \"text-align: right;\">2982.0</td><td style = \"text-align: right;\">2982.0</td><td style = \"text-align: right;\">2965.0</td><td style = \"text-align: right;\">8900</td><td style = \"text-align: right;\">-0.00326264</td><td style = \"text-align: right;\">2971.0</td><td style = \"text-align: right;\">0.0</td><td style = \"text-align: right;\">0.0</td><td style = \"text-align: right;\">0.0</td><td style = \"text-align: right;\">0.0</td><td style = \"text-align: right;\">0.0</td><td style = \"text-align: right;\">0.0</td><td style = \"text-align: right;\">0.0</td></tr><tr><td class = \"rowNumber\" style = \"font-weight: bold; text-align: right;\">2</td><td style = \"text-align: left;\">2021-12-07</td><td style = \"text-align: right;\">1301</td><td style = \"text-align: right;\">2998.0</td><td style = \"text-align: right;\">3065.0</td><td style = \"text-align: right;\">2990.0</td><td style = \"text-align: right;\">19100</td><td style = \"text-align: right;\">0.00981997</td><td style = \"text-align: right;\">3065.0</td><td style = \"text-align: right;\">0.0</td><td style = \"text-align: right;\">0.0</td><td style = \"text-align: right;\">0.0</td><td style = \"text-align: right;\">0.0</td><td style = \"text-align: right;\">0.0</td><td style = \"text-align: right;\">0.0</td><td style = \"text-align: right;\">0.0</td></tr><tr><td class = \"rowNumber\" style = \"font-weight: bold; text-align: right;\">3</td><td style = \"text-align: left;\">2021-12-08</td><td style = \"text-align: right;\">1301</td><td style = \"text-align: right;\">3080.0</td><td style = \"text-align: right;\">3080.0</td><td style = \"text-align: right;\">3035.0</td><td style = \"text-align: right;\">11600</td><td style = \"text-align: right;\">0.00648298</td><td style = \"text-align: right;\">3055.0</td><td style = \"text-align: right;\">0.0</td><td style = \"text-align: right;\">0.0</td><td style = \"text-align: right;\">0.0</td><td style = \"text-align: right;\">0.0</td><td style = \"text-align: right;\">0.0</td><td style = \"text-align: right;\">0.0</td><td style = \"text-align: right;\">0.00333699</td></tr><tr><td class = \"rowNumber\" style = \"font-weight: bold; text-align: right;\">4</td><td style = \"text-align: left;\">2021-12-09</td><td style = \"text-align: right;\">1301</td><td style = \"text-align: right;\">3050.0</td><td style = \"text-align: right;\">3085.0</td><td style = \"text-align: right;\">3025.0</td><td style = \"text-align: right;\">11700</td><td style = \"text-align: right;\">-0.00644122</td><td style = \"text-align: right;\">3085.0</td><td style = \"text-align: right;\">0.0</td><td style = \"text-align: right;\">0.0</td><td style = \"text-align: right;\">0.0</td><td style = \"text-align: right;\">0.0</td><td style = \"text-align: right;\">0.0</td><td style = \"text-align: right;\">0.0</td><td style = \"text-align: right;\">0.0162612</td></tr><tr><td class = \"rowNumber\" style = \"font-weight: bold; text-align: right;\">5</td><td style = \"text-align: left;\">2021-12-10</td><td style = \"text-align: right;\">1301</td><td style = \"text-align: right;\">3100.0</td><td style = \"text-align: right;\">3105.0</td><td style = \"text-align: right;\">3050.0</td><td style = \"text-align: right;\">14700</td><td style = \"text-align: right;\">-0.00810373</td><td style = \"text-align: right;\">3105.0</td><td style = \"text-align: right;\">0.0</td><td style = \"text-align: right;\">0.0</td><td style = \"text-align: right;\">0.0</td><td style = \"text-align: right;\">0.0</td><td style = \"text-align: right;\">0.0</td><td style = \"text-align: right;\">0.0</td><td style = \"text-align: right;\">0.0179237</td></tr><tr><td class = \"rowNumber\" style = \"font-weight: bold; text-align: right;\">6</td><td style = \"text-align: left;\">2021-12-13</td><td style = \"text-align: right;\">1301</td><td style = \"text-align: right;\">3110.0</td><td style = \"text-align: right;\">3110.0</td><td style = \"text-align: right;\">3075.0</td><td style = \"text-align: right;\">12100</td><td style = \"text-align: right;\">0.00980392</td><td style = \"text-align: right;\">3085.0</td><td style = \"text-align: right;\">0.0</td><td style = \"text-align: right;\">0.0</td><td style = \"text-align: right;\">0.0</td><td style = \"text-align: right;\">0.0</td><td style = \"text-align: right;\">0.0</td><td style = \"text-align: right;\">0.0</td><td style = \"text-align: right;\">1.60457e-5</td></tr><tr><td class = \"rowNumber\" style = \"font-weight: bold; text-align: right;\">7</td><td style = \"text-align: left;\">2021-12-14</td><td style = \"text-align: right;\">1301</td><td style = \"text-align: right;\">3085.0</td><td style = \"text-align: right;\">3085.0</td><td style = \"text-align: right;\">3055.0</td><td style = \"text-align: right;\">10200</td><td style = \"text-align: right;\">0.0113269</td><td style = \"text-align: right;\">3060.0</td><td style = \"text-align: right;\">0.0</td><td style = \"text-align: right;\">0.0</td><td style = \"text-align: right;\">0.0</td><td style = \"text-align: right;\">0.0</td><td style = \"text-align: right;\">0.0</td><td style = \"text-align: right;\">0.0</td><td style = \"text-align: right;\">0.0</td></tr><tr><td class = \"rowNumber\" style = \"font-weight: bold; text-align: right;\">8</td><td style = \"text-align: left;\">2021-12-15</td><td style = \"text-align: right;\">1301</td><td style = \"text-align: right;\">3060.0</td><td style = \"text-align: right;\">3095.0</td><td style = \"text-align: right;\">3060.0</td><td style = \"text-align: right;\">8500</td><td style = \"text-align: right;\">-0.0096</td><td style = \"text-align: right;\">3090.0</td><td style = \"text-align: right;\">0.0</td><td style = \"text-align: right;\">0.0</td><td style = \"text-align: right;\">0.0</td><td style = \"text-align: right;\">0.0</td><td style = \"text-align: right;\">0.0</td><td style = \"text-align: right;\">0.0</td><td style = \"text-align: right;\">0.0209269</td></tr><tr><td class = \"rowNumber\" style = \"font-weight: bold; text-align: right;\">9</td><td style = \"text-align: left;\">2021-12-16</td><td style = \"text-align: right;\">1301</td><td style = \"text-align: right;\">3100.0</td><td style = \"text-align: right;\">3135.0</td><td style = \"text-align: right;\">3085.0</td><td style = \"text-align: right;\">16900</td><td style = \"text-align: right;\">-0.0242326</td><td style = \"text-align: right;\">3125.0</td><td style = \"text-align: right;\">0.0</td><td style = \"text-align: right;\">0.0</td><td style = \"text-align: right;\">0.0</td><td style = \"text-align: right;\">0.0</td><td style = \"text-align: right;\">0.0</td><td style = \"text-align: right;\">0.0</td><td style = \"text-align: right;\">0.0355595</td></tr><tr><td class = \"rowNumber\" style = \"font-weight: bold; text-align: right;\">10</td><td style = \"text-align: left;\">2021-12-17</td><td style = \"text-align: right;\">1301</td><td style = \"text-align: right;\">3125.0</td><td style = \"text-align: right;\">3140.0</td><td style = \"text-align: right;\">3090.0</td><td style = \"text-align: right;\">14600</td><td style = \"text-align: right;\">0.00993377</td><td style = \"text-align: right;\">3095.0</td><td style = \"text-align: right;\">0.0</td><td style = \"text-align: right;\">0.0</td><td style = \"text-align: right;\">0.0</td><td style = \"text-align: right;\">0.0</td><td style = \"text-align: right;\">0.0</td><td style = \"text-align: right;\">0.0</td><td style = \"text-align: right;\">0.00139309</td></tr></tbody></table></div>"
      ],
      "text/latex": [
       "\\begin{tabular}{r|ccccccccc}\n",
       "\t& Date & SecuritiesCode & Open & High & Low & Volume & Target & AdjustedClose & \\\\\n",
       "\t\\hline\n",
       "\t& Date & Int64 & Float64 & Float64 & Float64 & Int64 & Float64 & Float64 & \\\\\n",
       "\t\\hline\n",
       "\t1 & 2021-12-06 & 1301 & 2982.0 & 2982.0 & 2965.0 & 8900 & -0.00326264 & 2971.0 & $\\dots$ \\\\\n",
       "\t2 & 2021-12-07 & 1301 & 2998.0 & 3065.0 & 2990.0 & 19100 & 0.00981997 & 3065.0 & $\\dots$ \\\\\n",
       "\t3 & 2021-12-08 & 1301 & 3080.0 & 3080.0 & 3035.0 & 11600 & 0.00648298 & 3055.0 & $\\dots$ \\\\\n",
       "\t4 & 2021-12-09 & 1301 & 3050.0 & 3085.0 & 3025.0 & 11700 & -0.00644122 & 3085.0 & $\\dots$ \\\\\n",
       "\t5 & 2021-12-10 & 1301 & 3100.0 & 3105.0 & 3050.0 & 14700 & -0.00810373 & 3105.0 & $\\dots$ \\\\\n",
       "\t6 & 2021-12-13 & 1301 & 3110.0 & 3110.0 & 3075.0 & 12100 & 0.00980392 & 3085.0 & $\\dots$ \\\\\n",
       "\t7 & 2021-12-14 & 1301 & 3085.0 & 3085.0 & 3055.0 & 10200 & 0.0113269 & 3060.0 & $\\dots$ \\\\\n",
       "\t8 & 2021-12-15 & 1301 & 3060.0 & 3095.0 & 3060.0 & 8500 & -0.0096 & 3090.0 & $\\dots$ \\\\\n",
       "\t9 & 2021-12-16 & 1301 & 3100.0 & 3135.0 & 3085.0 & 16900 & -0.0242326 & 3125.0 & $\\dots$ \\\\\n",
       "\t10 & 2021-12-17 & 1301 & 3125.0 & 3140.0 & 3090.0 & 14600 & 0.00993377 & 3095.0 & $\\dots$ \\\\\n",
       "\\end{tabular}\n"
      ],
      "text/plain": [
       "\u001b[1m10×15 DataFrame\u001b[0m\n",
       "\u001b[1m Row \u001b[0m│\u001b[1m Date       \u001b[0m\u001b[1m SecuritiesCode \u001b[0m\u001b[1m Open    \u001b[0m\u001b[1m High    \u001b[0m\u001b[1m Low     \u001b[0m\u001b[1m Volume \u001b[0m\u001b[1m Target  \u001b[0m ⋯\n",
       "     │\u001b[90m Date       \u001b[0m\u001b[90m Int64          \u001b[0m\u001b[90m Float64 \u001b[0m\u001b[90m Float64 \u001b[0m\u001b[90m Float64 \u001b[0m\u001b[90m Int64  \u001b[0m\u001b[90m Float64 \u001b[0m ⋯\n",
       "─────┼──────────────────────────────────────────────────────────────────────────\n",
       "   1 │ 2021-12-06            1301   2982.0   2982.0   2965.0    8900  -0.00326 ⋯\n",
       "   2 │ 2021-12-07            1301   2998.0   3065.0   2990.0   19100   0.00981\n",
       "   3 │ 2021-12-08            1301   3080.0   3080.0   3035.0   11600   0.00648\n",
       "   4 │ 2021-12-09            1301   3050.0   3085.0   3025.0   11700  -0.00644\n",
       "   5 │ 2021-12-10            1301   3100.0   3105.0   3050.0   14700  -0.00810 ⋯\n",
       "   6 │ 2021-12-13            1301   3110.0   3110.0   3075.0   12100   0.00980\n",
       "   7 │ 2021-12-14            1301   3085.0   3085.0   3055.0   10200   0.01132\n",
       "   8 │ 2021-12-15            1301   3060.0   3095.0   3060.0    8500  -0.0096\n",
       "   9 │ 2021-12-16            1301   3100.0   3135.0   3085.0   16900  -0.02423 ⋯\n",
       "  10 │ 2021-12-17            1301   3125.0   3140.0   3090.0   14600   0.00993\n",
       "\u001b[36m                                                               9 columns omitted\u001b[0m"
      ]
     },
     "execution_count": 36,
     "metadata": {},
     "output_type": "execute_result"
    }
   ],
   "source": [
    "df_test = CSV.read(\"../../data/preprocessed/stock_prices_supplemental.csv\",DataFrame)\n",
    "first(df_test, 10)"
   ]
  },
  {
   "cell_type": "code",
   "execution_count": 37,
   "metadata": {},
   "outputs": [
    {
     "data": {
      "text/html": [
       "<div><div style = \"float: left;\"><span>10×15 DataFrame</span></div><div style = \"clear: both;\"></div></div><div class = \"data-frame\" style = \"overflow-x: scroll;\"><table class = \"data-frame\" style = \"margin-bottom: 6px;\"><thead><tr class = \"header\"><th class = \"rowNumber\" style = \"font-weight: bold; text-align: right;\">Row</th><th style = \"text-align: left;\">Date</th><th style = \"text-align: left;\">SecuritiesCode</th><th style = \"text-align: left;\">Open</th><th style = \"text-align: left;\">High</th><th style = \"text-align: left;\">Low</th><th style = \"text-align: left;\">Volume</th><th style = \"text-align: left;\">Target</th><th style = \"text-align: left;\">AdjustedClose</th><th style = \"text-align: left;\">return_20days</th><th style = \"text-align: left;\">volatility_20days</th><th style = \"text-align: left;\">return_40days</th><th style = \"text-align: left;\">volatility_40days</th><th style = \"text-align: left;\">return_60days</th><th style = \"text-align: left;\">volatility_60days</th><th style = \"text-align: left;\">Drawdown</th></tr><tr class = \"subheader headerLastRow\"><th class = \"rowNumber\" style = \"font-weight: bold; text-align: right;\"></th><th title = \"Date\" style = \"text-align: left;\">Date</th><th title = \"Int64\" style = \"text-align: left;\">Int64</th><th title = \"Float64\" style = \"text-align: left;\">Float64</th><th title = \"Float64\" style = \"text-align: left;\">Float64</th><th title = \"Float64\" style = \"text-align: left;\">Float64</th><th title = \"Int64\" style = \"text-align: left;\">Int64</th><th title = \"Float64\" style = \"text-align: left;\">Float64</th><th title = \"Float64\" style = \"text-align: left;\">Float64</th><th title = \"Float64\" style = \"text-align: left;\">Float64</th><th title = \"Float64\" style = \"text-align: left;\">Float64</th><th title = \"Float64\" style = \"text-align: left;\">Float64</th><th title = \"Float64\" style = \"text-align: left;\">Float64</th><th title = \"Float64\" style = \"text-align: left;\">Float64</th><th title = \"Float64\" style = \"text-align: left;\">Float64</th><th title = \"Float64\" style = \"text-align: left;\">Float64</th></tr></thead><tbody><tr><td class = \"rowNumber\" style = \"font-weight: bold; text-align: right;\">1</td><td style = \"text-align: left;\">2017-01-04</td><td style = \"text-align: right;\">1301</td><td style = \"text-align: right;\">2734.0</td><td style = \"text-align: right;\">2755.0</td><td style = \"text-align: right;\">2730.0</td><td style = \"text-align: right;\">31400</td><td style = \"text-align: right;\">0.00073046</td><td style = \"text-align: right;\">2742.0</td><td style = \"text-align: right;\">0.0</td><td style = \"text-align: right;\">0.0</td><td style = \"text-align: right;\">0.0</td><td style = \"text-align: right;\">0.0</td><td style = \"text-align: right;\">0.0</td><td style = \"text-align: right;\">0.0</td><td style = \"text-align: right;\">0.0</td></tr><tr><td class = \"rowNumber\" style = \"font-weight: bold; text-align: right;\">2</td><td style = \"text-align: left;\">2017-01-05</td><td style = \"text-align: right;\">1301</td><td style = \"text-align: right;\">2743.0</td><td style = \"text-align: right;\">2747.0</td><td style = \"text-align: right;\">2735.0</td><td style = \"text-align: right;\">17900</td><td style = \"text-align: right;\">0.00291971</td><td style = \"text-align: right;\">2738.0</td><td style = \"text-align: right;\">0.0</td><td style = \"text-align: right;\">0.0</td><td style = \"text-align: right;\">0.0</td><td style = \"text-align: right;\">0.0</td><td style = \"text-align: right;\">0.0</td><td style = \"text-align: right;\">0.0</td><td style = \"text-align: right;\">0.0</td></tr><tr><td class = \"rowNumber\" style = \"font-weight: bold; text-align: right;\">3</td><td style = \"text-align: left;\">2017-01-06</td><td style = \"text-align: right;\">1301</td><td style = \"text-align: right;\">2734.0</td><td style = \"text-align: right;\">2744.0</td><td style = \"text-align: right;\">2720.0</td><td style = \"text-align: right;\">19900</td><td style = \"text-align: right;\">-0.0010917</td><td style = \"text-align: right;\">2740.0</td><td style = \"text-align: right;\">0.0</td><td style = \"text-align: right;\">0.0</td><td style = \"text-align: right;\">0.0</td><td style = \"text-align: right;\">0.0</td><td style = \"text-align: right;\">0.0</td><td style = \"text-align: right;\">0.0</td><td style = \"text-align: right;\">0.00401141</td></tr><tr><td class = \"rowNumber\" style = \"font-weight: bold; text-align: right;\">4</td><td style = \"text-align: left;\">2017-01-10</td><td style = \"text-align: right;\">1301</td><td style = \"text-align: right;\">2745.0</td><td style = \"text-align: right;\">2754.0</td><td style = \"text-align: right;\">2735.0</td><td style = \"text-align: right;\">24200</td><td style = \"text-align: right;\">-0.00510018</td><td style = \"text-align: right;\">2748.0</td><td style = \"text-align: right;\">0.0</td><td style = \"text-align: right;\">0.0</td><td style = \"text-align: right;\">0.0</td><td style = \"text-align: right;\">0.0</td><td style = \"text-align: right;\">0.0</td><td style = \"text-align: right;\">0.0</td><td style = \"text-align: right;\">0.00801989</td></tr><tr><td class = \"rowNumber\" style = \"font-weight: bold; text-align: right;\">5</td><td style = \"text-align: left;\">2017-01-11</td><td style = \"text-align: right;\">1301</td><td style = \"text-align: right;\">2748.0</td><td style = \"text-align: right;\">2752.0</td><td style = \"text-align: right;\">2737.0</td><td style = \"text-align: right;\">9300</td><td style = \"text-align: right;\">-0.0032955</td><td style = \"text-align: right;\">2745.0</td><td style = \"text-align: right;\">0.0</td><td style = \"text-align: right;\">0.0</td><td style = \"text-align: right;\">0.0</td><td style = \"text-align: right;\">0.0</td><td style = \"text-align: right;\">0.0</td><td style = \"text-align: right;\">0.0</td><td style = \"text-align: right;\">0.0062152</td></tr><tr><td class = \"rowNumber\" style = \"font-weight: bold; text-align: right;\">6</td><td style = \"text-align: left;\">2017-01-12</td><td style = \"text-align: right;\">1301</td><td style = \"text-align: right;\">2745.0</td><td style = \"text-align: right;\">2747.0</td><td style = \"text-align: right;\">2703.0</td><td style = \"text-align: right;\">28700</td><td style = \"text-align: right;\">-0.00661278</td><td style = \"text-align: right;\">2731.0</td><td style = \"text-align: right;\">0.0</td><td style = \"text-align: right;\">0.0</td><td style = \"text-align: right;\">0.0</td><td style = \"text-align: right;\">0.0</td><td style = \"text-align: right;\">0.0</td><td style = \"text-align: right;\">0.0</td><td style = \"text-align: right;\">0.00953249</td></tr><tr><td class = \"rowNumber\" style = \"font-weight: bold; text-align: right;\">7</td><td style = \"text-align: left;\">2017-01-13</td><td style = \"text-align: right;\">1301</td><td style = \"text-align: right;\">2707.0</td><td style = \"text-align: right;\">2730.0</td><td style = \"text-align: right;\">2707.0</td><td style = \"text-align: right;\">19400</td><td style = \"text-align: right;\">-0.0066568</td><td style = \"text-align: right;\">2722.0</td><td style = \"text-align: right;\">0.0</td><td style = \"text-align: right;\">0.0</td><td style = \"text-align: right;\">0.0</td><td style = \"text-align: right;\">0.0</td><td style = \"text-align: right;\">0.0</td><td style = \"text-align: right;\">0.0</td><td style = \"text-align: right;\">0.00957651</td></tr><tr><td class = \"rowNumber\" style = \"font-weight: bold; text-align: right;\">8</td><td style = \"text-align: left;\">2017-01-16</td><td style = \"text-align: right;\">1301</td><td style = \"text-align: right;\">2725.0</td><td style = \"text-align: right;\">2725.0</td><td style = \"text-align: right;\">2696.0</td><td style = \"text-align: right;\">20100</td><td style = \"text-align: right;\">0.00297841</td><td style = \"text-align: right;\">2704.0</td><td style = \"text-align: right;\">0.0</td><td style = \"text-align: right;\">0.0</td><td style = \"text-align: right;\">0.0</td><td style = \"text-align: right;\">0.0</td><td style = \"text-align: right;\">0.0</td><td style = \"text-align: right;\">0.0</td><td style = \"text-align: right;\">0.0</td></tr><tr><td class = \"rowNumber\" style = \"font-weight: bold; text-align: right;\">9</td><td style = \"text-align: left;\">2017-01-17</td><td style = \"text-align: right;\">1301</td><td style = \"text-align: right;\">2702.0</td><td style = \"text-align: right;\">2704.0</td><td style = \"text-align: right;\">2682.0</td><td style = \"text-align: right;\">18400</td><td style = \"text-align: right;\">0.00185598</td><td style = \"text-align: right;\">2686.0</td><td style = \"text-align: right;\">0.0</td><td style = \"text-align: right;\">0.0</td><td style = \"text-align: right;\">0.0</td><td style = \"text-align: right;\">0.0</td><td style = \"text-align: right;\">0.0</td><td style = \"text-align: right;\">0.0</td><td style = \"text-align: right;\">0.00112243</td></tr><tr><td class = \"rowNumber\" style = \"font-weight: bold; text-align: right;\">10</td><td style = \"text-align: left;\">2017-01-18</td><td style = \"text-align: right;\">1301</td><td style = \"text-align: right;\">2689.0</td><td style = \"text-align: right;\">2695.0</td><td style = \"text-align: right;\">2681.0</td><td style = \"text-align: right;\">12100</td><td style = \"text-align: right;\">0.0140793</td><td style = \"text-align: right;\">2694.0</td><td style = \"text-align: right;\">0.0</td><td style = \"text-align: right;\">0.0</td><td style = \"text-align: right;\">0.0</td><td style = \"text-align: right;\">0.0</td><td style = \"text-align: right;\">0.0</td><td style = \"text-align: right;\">0.0</td><td style = \"text-align: right;\">0.0</td></tr></tbody></table></div>"
      ],
      "text/latex": [
       "\\begin{tabular}{r|ccccccccc}\n",
       "\t& Date & SecuritiesCode & Open & High & Low & Volume & Target & AdjustedClose & \\\\\n",
       "\t\\hline\n",
       "\t& Date & Int64 & Float64 & Float64 & Float64 & Int64 & Float64 & Float64 & \\\\\n",
       "\t\\hline\n",
       "\t1 & 2017-01-04 & 1301 & 2734.0 & 2755.0 & 2730.0 & 31400 & 0.00073046 & 2742.0 & $\\dots$ \\\\\n",
       "\t2 & 2017-01-05 & 1301 & 2743.0 & 2747.0 & 2735.0 & 17900 & 0.00291971 & 2738.0 & $\\dots$ \\\\\n",
       "\t3 & 2017-01-06 & 1301 & 2734.0 & 2744.0 & 2720.0 & 19900 & -0.0010917 & 2740.0 & $\\dots$ \\\\\n",
       "\t4 & 2017-01-10 & 1301 & 2745.0 & 2754.0 & 2735.0 & 24200 & -0.00510018 & 2748.0 & $\\dots$ \\\\\n",
       "\t5 & 2017-01-11 & 1301 & 2748.0 & 2752.0 & 2737.0 & 9300 & -0.0032955 & 2745.0 & $\\dots$ \\\\\n",
       "\t6 & 2017-01-12 & 1301 & 2745.0 & 2747.0 & 2703.0 & 28700 & -0.00661278 & 2731.0 & $\\dots$ \\\\\n",
       "\t7 & 2017-01-13 & 1301 & 2707.0 & 2730.0 & 2707.0 & 19400 & -0.0066568 & 2722.0 & $\\dots$ \\\\\n",
       "\t8 & 2017-01-16 & 1301 & 2725.0 & 2725.0 & 2696.0 & 20100 & 0.00297841 & 2704.0 & $\\dots$ \\\\\n",
       "\t9 & 2017-01-17 & 1301 & 2702.0 & 2704.0 & 2682.0 & 18400 & 0.00185598 & 2686.0 & $\\dots$ \\\\\n",
       "\t10 & 2017-01-18 & 1301 & 2689.0 & 2695.0 & 2681.0 & 12100 & 0.0140793 & 2694.0 & $\\dots$ \\\\\n",
       "\\end{tabular}\n"
      ],
      "text/plain": [
       "\u001b[1m10×15 DataFrame\u001b[0m\n",
       "\u001b[1m Row \u001b[0m│\u001b[1m Date       \u001b[0m\u001b[1m SecuritiesCode \u001b[0m\u001b[1m Open    \u001b[0m\u001b[1m High    \u001b[0m\u001b[1m Low     \u001b[0m\u001b[1m Volume \u001b[0m\u001b[1m Target  \u001b[0m ⋯\n",
       "     │\u001b[90m Date       \u001b[0m\u001b[90m Int64          \u001b[0m\u001b[90m Float64 \u001b[0m\u001b[90m Float64 \u001b[0m\u001b[90m Float64 \u001b[0m\u001b[90m Int64  \u001b[0m\u001b[90m Float64 \u001b[0m ⋯\n",
       "─────┼──────────────────────────────────────────────────────────────────────────\n",
       "   1 │ 2017-01-04            1301   2734.0   2755.0   2730.0   31400   0.00073 ⋯\n",
       "   2 │ 2017-01-05            1301   2743.0   2747.0   2735.0   17900   0.00291\n",
       "   3 │ 2017-01-06            1301   2734.0   2744.0   2720.0   19900  -0.00109\n",
       "   4 │ 2017-01-10            1301   2745.0   2754.0   2735.0   24200  -0.00510\n",
       "   5 │ 2017-01-11            1301   2748.0   2752.0   2737.0    9300  -0.00329 ⋯\n",
       "   6 │ 2017-01-12            1301   2745.0   2747.0   2703.0   28700  -0.00661\n",
       "   7 │ 2017-01-13            1301   2707.0   2730.0   2707.0   19400  -0.00665\n",
       "   8 │ 2017-01-16            1301   2725.0   2725.0   2696.0   20100   0.00297\n",
       "   9 │ 2017-01-17            1301   2702.0   2704.0   2682.0   18400   0.00185 ⋯\n",
       "  10 │ 2017-01-18            1301   2689.0   2695.0   2681.0   12100   0.01407\n",
       "\u001b[36m                                                               9 columns omitted\u001b[0m"
      ]
     },
     "execution_count": 37,
     "metadata": {},
     "output_type": "execute_result"
    }
   ],
   "source": [
    "df = vcat(df,df_test)\n",
    "first(df, 10)"
   ]
  },
  {
   "cell_type": "code",
   "execution_count": 5,
   "metadata": {},
   "outputs": [
    {
     "name": "stdout",
     "output_type": "stream",
     "text": [
      "a"
     ]
    },
    {
     "data": {
      "text/plain": [
       "0.0349326393141456"
      ]
     },
     "execution_count": 5,
     "metadata": {},
     "output_type": "execute_result"
    }
   ],
   "source": [
    "df[!,:Drawdown] = zeros(size(df,1))\n",
    "security_code = df[1204,:SecuritiesCode]\n",
    "df_prev = df[1:1203,:]\n",
    "idx = df_prev[!, :SecuritiesCode] .== security_code\n",
    "print(\"a\")\n",
    "df[1204,:Drawdown] = maximum(df_prev[idx, :Target]) - df[1204,:Target]"
   ]
  },
  {
   "cell_type": "code",
   "execution_count": null,
   "metadata": {},
   "outputs": [],
   "source": [
    "df[!,:Drawdown] = zeros(size(df,1))\n",
    "\n",
    "for i in 2:size(df,1)\n",
    "    security_code = df[i,:SecuritiesCode]\n",
    "    df_prev = df[1:i-1,:]\n",
    "    idx = df_prev[!, :SecuritiesCode] .== security_code\n",
    "    df[i,:Drawdown] = maximum(df_prev[idx, :Target], init=0) - df[i,:Target]\n",
    "end\n",
    "first(df, 10)"
   ]
  },
  {
   "cell_type": "code",
   "execution_count": 87,
   "metadata": {},
   "outputs": [
    {
     "data": {
      "text/plain": [
       "prescription_baseline (generic function with 1 method)"
      ]
     },
     "execution_count": 87,
     "metadata": {},
     "output_type": "execute_result"
    }
   ],
   "source": [
    "using Dates, Gurobi, JuMP\n",
    "\n",
    "function prescription_baseline(df, C, D)\n",
    "    Random.seed!(42)\n",
    "    m = Model(Gurobi.Optimizer)\n",
    "    set_optimizer_attribute(m, \"OutputFlag\", 0)\n",
    "\n",
    "    #extract the part of the dataset that correspond to day 2022/06/23, which is the day before the test day\n",
    "    idx = df[!,:Date] .== Date(2022,6,23)\n",
    "    df_2022_06_23 = df[idx,:]\n",
    "    \n",
    "    # extract the 200 performing stocks based on the value of Target for the date \"2022-06-23\"\n",
    "    df_2022_06_23_top = sort(df_2022_06_23, :Target, rev=true)[1:200,:]\n",
    "    # same for the 200 worst performing stocks\n",
    "    df_2022_06_23_bottom = sort(df_2022_06_23, :Target, rev=false)[1:200,:]\n",
    "\n",
    "    #we select the top 200 stocks to buy and the bottom 200 stocks to shorts\n",
    "    @variable(m, w[1:400]>=0);\n",
    "    @objective(m, Max, sum(w[i] * df_2022_06_23_top[!,\"Target\"][i] for i in 1:200) + sum(w[i] * df_2022_06_23_bottom[!,\"Target\"][i] for i in 1:200))\n",
    "    \n",
    "    #add the constraint that the max of drawdowns on the day 2022/06/23 weighted by w is less that C\n",
    "    @constraint(m, (sum(w[i] * df_2022_06_23_top[!,\"Drawdown\"][i] for i in 1:200) + sum(w[i] * df_2022_06_23_bottom[!,\"Drawdown\"][i] for i in 1:200))/600 <= C)\n",
    "    \n",
    "    #sum of w should be equal to D\n",
    "    @constraint(m, sum(w) == D)\n",
    "    optimize!(m)\n",
    "    #return the value of w\n",
    "    return value.(w)\n",
    "\n",
    "end"
   ]
  },
  {
   "cell_type": "code",
   "execution_count": 88,
   "metadata": {},
   "outputs": [
    {
     "name": "stdout",
     "output_type": "stream",
     "text": [
      "Set parameter Username\r\n",
      "Academic license - for non-commercial use only - expires 2023-08-18\r\n"
     ]
    },
    {
     "data": {
      "text/plain": [
       "400-element Vector{Float64}:\n",
       "  0.0\n",
       "  0.0\n",
       " 29.016112399932855\n",
       "  0.0\n",
       "  0.0\n",
       "  0.0\n",
       "  0.0\n",
       "  0.0\n",
       "  0.0\n",
       "  0.0\n",
       "  0.0\n",
       "  0.0\n",
       "  0.0\n",
       "  ⋮\n",
       "  0.0\n",
       "  0.0\n",
       "  0.0\n",
       "  0.0\n",
       "  0.0\n",
       "  0.0\n",
       "  0.0\n",
       "  0.0\n",
       "  0.0\n",
       "  0.0\n",
       "  0.0\n",
       "  0.0"
      ]
     },
     "execution_count": 88,
     "metadata": {},
     "output_type": "execute_result"
    }
   ],
   "source": [
    "w_opt_baseline = prescription_baseline(df, 0.01, 600)"
   ]
  },
  {
   "cell_type": "code",
   "execution_count": 45,
   "metadata": {},
   "outputs": [
    {
     "data": {
      "text/html": [
       "<div><div style = \"float: left;\"><span>200×15 DataFrame</span></div><div style = \"float: right;\"><span style = \"font-style: italic;\">175 rows omitted</span></div><div style = \"clear: both;\"></div></div><div class = \"data-frame\" style = \"overflow-x: scroll;\"><table class = \"data-frame\" style = \"margin-bottom: 6px;\"><thead><tr class = \"header\"><th class = \"rowNumber\" style = \"font-weight: bold; text-align: right;\">Row</th><th style = \"text-align: left;\">Date</th><th style = \"text-align: left;\">SecuritiesCode</th><th style = \"text-align: left;\">Open</th><th style = \"text-align: left;\">High</th><th style = \"text-align: left;\">Low</th><th style = \"text-align: left;\">Volume</th><th style = \"text-align: left;\">Target</th><th style = \"text-align: left;\">AdjustedClose</th><th style = \"text-align: left;\">return_20days</th><th style = \"text-align: left;\">volatility_20days</th><th style = \"text-align: left;\">return_40days</th><th style = \"text-align: left;\">volatility_40days</th><th style = \"text-align: left;\">return_60days</th><th style = \"text-align: left;\">volatility_60days</th><th style = \"text-align: left;\">Drawdown</th></tr><tr class = \"subheader headerLastRow\"><th class = \"rowNumber\" style = \"font-weight: bold; text-align: right;\"></th><th title = \"Date\" style = \"text-align: left;\">Date</th><th title = \"Int64\" style = \"text-align: left;\">Int64</th><th title = \"Float64\" style = \"text-align: left;\">Float64</th><th title = \"Float64\" style = \"text-align: left;\">Float64</th><th title = \"Float64\" style = \"text-align: left;\">Float64</th><th title = \"Int64\" style = \"text-align: left;\">Int64</th><th title = \"Float64\" style = \"text-align: left;\">Float64</th><th title = \"Float64\" style = \"text-align: left;\">Float64</th><th title = \"Float64\" style = \"text-align: left;\">Float64</th><th title = \"Float64\" style = \"text-align: left;\">Float64</th><th title = \"Float64\" style = \"text-align: left;\">Float64</th><th title = \"Float64\" style = \"text-align: left;\">Float64</th><th title = \"Float64\" style = \"text-align: left;\">Float64</th><th title = \"Float64\" style = \"text-align: left;\">Float64</th><th title = \"Float64\" style = \"text-align: left;\">Float64</th></tr></thead><tbody><tr><td class = \"rowNumber\" style = \"font-weight: bold; text-align: right;\">1</td><td style = \"text-align: left;\">2022-06-24</td><td style = \"text-align: right;\">4772</td><td style = \"text-align: right;\">185.0</td><td style = \"text-align: right;\">221.0</td><td style = \"text-align: right;\">181.0</td><td style = \"text-align: right;\">6564100</td><td style = \"text-align: right;\">-0.068</td><td style = \"text-align: right;\">203.0</td><td style = \"text-align: right;\">157.6</td><td style = \"text-align: right;\">0.0565635</td><td style = \"text-align: right;\">149.775</td><td style = \"text-align: right;\">0.0498302</td><td style = \"text-align: right;\">149.717</td><td style = \"text-align: right;\">0.0431327</td><td style = \"text-align: right;\">0.299527</td></tr><tr><td class = \"rowNumber\" style = \"font-weight: bold; text-align: right;\">2</td><td style = \"text-align: left;\">2022-06-24</td><td style = \"text-align: right;\">3660</td><td style = \"text-align: right;\">232.0</td><td style = \"text-align: right;\">239.0</td><td style = \"text-align: right;\">229.0</td><td style = \"text-align: right;\">1076100</td><td style = \"text-align: right;\">-0.0472103</td><td style = \"text-align: right;\">235.0</td><td style = \"text-align: right;\">229.85</td><td style = \"text-align: right;\">0.045342</td><td style = \"text-align: right;\">203.025</td><td style = \"text-align: right;\">0.0442826</td><td style = \"text-align: right;\">194.3</td><td style = \"text-align: right;\">0.0397477</td><td style = \"text-align: right;\">0.176675</td></tr><tr><td class = \"rowNumber\" style = \"font-weight: bold; text-align: right;\">3</td><td style = \"text-align: left;\">2022-06-24</td><td style = \"text-align: right;\">3031</td><td style = \"text-align: right;\">1840.0</td><td style = \"text-align: right;\">1899.0</td><td style = \"text-align: right;\">1816.0</td><td style = \"text-align: right;\">1153500</td><td style = \"text-align: right;\">-0.0436836</td><td style = \"text-align: right;\">1826.0</td><td style = \"text-align: right;\">1533.25</td><td style = \"text-align: right;\">0.0506802</td><td style = \"text-align: right;\">1487.47</td><td style = \"text-align: right;\">0.0425432</td><td style = \"text-align: right;\">1408.03</td><td style = \"text-align: right;\">0.0375405</td><td style = \"text-align: right;\">0.160047</td></tr><tr><td class = \"rowNumber\" style = \"font-weight: bold; text-align: right;\">4</td><td style = \"text-align: left;\">2022-06-24</td><td style = \"text-align: right;\">1407</td><td style = \"text-align: right;\">4155.0</td><td style = \"text-align: right;\">4460.0</td><td style = \"text-align: right;\">3805.0</td><td style = \"text-align: right;\">1700800</td><td style = \"text-align: right;\">-0.0431566</td><td style = \"text-align: right;\">4390.0</td><td style = \"text-align: right;\">4272.0</td><td style = \"text-align: right;\">0.0362882</td><td style = \"text-align: right;\">4516.0</td><td style = \"text-align: right;\">0.037786</td><td style = \"text-align: right;\">4693.58</td><td style = \"text-align: right;\">0.0370481</td><td style = \"text-align: right;\">0.232346</td></tr><tr><td class = \"rowNumber\" style = \"font-weight: bold; text-align: right;\">5</td><td style = \"text-align: left;\">2022-06-24</td><td style = \"text-align: right;\">4058</td><td style = \"text-align: right;\">1323.0</td><td style = \"text-align: right;\">1388.0</td><td style = \"text-align: right;\">1317.0</td><td style = \"text-align: right;\">19400</td><td style = \"text-align: right;\">-0.0393701</td><td style = \"text-align: right;\">1387.0</td><td style = \"text-align: right;\">1367.75</td><td style = \"text-align: right;\">0.0228054</td><td style = \"text-align: right;\">1412.65</td><td style = \"text-align: right;\">0.0299982</td><td style = \"text-align: right;\">1476.85</td><td style = \"text-align: right;\">0.0287428</td><td style = \"text-align: right;\">0.154196</td></tr><tr><td class = \"rowNumber\" style = \"font-weight: bold; text-align: right;\">6</td><td style = \"text-align: left;\">2022-06-24</td><td style = \"text-align: right;\">6094</td><td style = \"text-align: right;\">1842.0</td><td style = \"text-align: right;\">1887.0</td><td style = \"text-align: right;\">1781.0</td><td style = \"text-align: right;\">83800</td><td style = \"text-align: right;\">-0.0387513</td><td style = \"text-align: right;\">1876.0</td><td style = \"text-align: right;\">1757.75</td><td style = \"text-align: right;\">0.0395632</td><td style = \"text-align: right;\">1809.33</td><td style = \"text-align: right;\">0.0426152</td><td style = \"text-align: right;\">1877.73</td><td style = \"text-align: right;\">0.039437</td><td style = \"text-align: right;\">0.156398</td></tr><tr><td class = \"rowNumber\" style = \"font-weight: bold; text-align: right;\">7</td><td style = \"text-align: left;\">2022-06-24</td><td style = \"text-align: right;\">4449</td><td style = \"text-align: right;\">1138.0</td><td style = \"text-align: right;\">1249.0</td><td style = \"text-align: right;\">1138.0</td><td style = \"text-align: right;\">2151600</td><td style = \"text-align: right;\">-0.0384924</td><td style = \"text-align: right;\">1233.0</td><td style = \"text-align: right;\">1104.95</td><td style = \"text-align: right;\">0.0573985</td><td style = \"text-align: right;\">1079.35</td><td style = \"text-align: right;\">0.0669403</td><td style = \"text-align: right;\">1130.9</td><td style = \"text-align: right;\">0.0615741</td><td style = \"text-align: right;\">0.220974</td></tr><tr><td class = \"rowNumber\" style = \"font-weight: bold; text-align: right;\">8</td><td style = \"text-align: left;\">2022-06-24</td><td style = \"text-align: right;\">7630</td><td style = \"text-align: right;\">4945.0</td><td style = \"text-align: right;\">4975.0</td><td style = \"text-align: right;\">4930.0</td><td style = \"text-align: right;\">27600</td><td style = \"text-align: right;\">-0.0365112</td><td style = \"text-align: right;\">4975.0</td><td style = \"text-align: right;\">4897.0</td><td style = \"text-align: right;\">0.00878699</td><td style = \"text-align: right;\">4886.5</td><td style = \"text-align: right;\">0.0091148</td><td style = \"text-align: right;\">4816.75</td><td style = \"text-align: right;\">0.00886153</td><td style = \"text-align: right;\">0.0606075</td></tr><tr><td class = \"rowNumber\" style = \"font-weight: bold; text-align: right;\">9</td><td style = \"text-align: left;\">2022-06-24</td><td style = \"text-align: right;\">4054</td><td style = \"text-align: right;\">1050.0</td><td style = \"text-align: right;\">1073.0</td><td style = \"text-align: right;\">1038.0</td><td style = \"text-align: right;\">56600</td><td style = \"text-align: right;\">-0.0362745</td><td style = \"text-align: right;\">1042.0</td><td style = \"text-align: right;\">1180.25</td><td style = \"text-align: right;\">0.0270262</td><td style = \"text-align: right;\">1202.78</td><td style = \"text-align: right;\">0.0501727</td><td style = \"text-align: right;\">1199.32</td><td style = \"text-align: right;\">0.0483266</td><td style = \"text-align: right;\">0.208072</td></tr><tr><td class = \"rowNumber\" style = \"font-weight: bold; text-align: right;\">10</td><td style = \"text-align: left;\">2022-06-24</td><td style = \"text-align: right;\">7036</td><td style = \"text-align: right;\">2313.0</td><td style = \"text-align: right;\">2440.0</td><td style = \"text-align: right;\">2313.0</td><td style = \"text-align: right;\">7300</td><td style = \"text-align: right;\">-0.0358499</td><td style = \"text-align: right;\">2371.0</td><td style = \"text-align: right;\">2473.1</td><td style = \"text-align: right;\">0.0326109</td><td style = \"text-align: right;\">2608.57</td><td style = \"text-align: right;\">0.0272487</td><td style = \"text-align: right;\">2743.27</td><td style = \"text-align: right;\">0.0264749</td><td style = \"text-align: right;\">0.214194</td></tr><tr><td class = \"rowNumber\" style = \"font-weight: bold; text-align: right;\">11</td><td style = \"text-align: left;\">2022-06-24</td><td style = \"text-align: right;\">4434</td><td style = \"text-align: right;\">2241.0</td><td style = \"text-align: right;\">2317.0</td><td style = \"text-align: right;\">2191.0</td><td style = \"text-align: right;\">59900</td><td style = \"text-align: right;\">-0.0350649</td><td style = \"text-align: right;\">2280.0</td><td style = \"text-align: right;\">2105.4</td><td style = \"text-align: right;\">0.0279888</td><td style = \"text-align: right;\">2071.5</td><td style = \"text-align: right;\">0.0223789</td><td style = \"text-align: right;\">2226.57</td><td style = \"text-align: right;\">0.0370534</td><td style = \"text-align: right;\">0.135816</td></tr><tr><td class = \"rowNumber\" style = \"font-weight: bold; text-align: right;\">12</td><td style = \"text-align: left;\">2022-06-24</td><td style = \"text-align: right;\">6612</td><td style = \"text-align: right;\">3840.0</td><td style = \"text-align: right;\">3920.0</td><td style = \"text-align: right;\">3820.0</td><td style = \"text-align: right;\">16400</td><td style = \"text-align: right;\">-0.0326797</td><td style = \"text-align: right;\">3830.0</td><td style = \"text-align: right;\">3418.65</td><td style = \"text-align: right;\">0.0344919</td><td style = \"text-align: right;\">3184.57</td><td style = \"text-align: right;\">0.0307955</td><td style = \"text-align: right;\">3171.62</td><td style = \"text-align: right;\">0.0359392</td><td style = \"text-align: right;\">0.174626</td></tr><tr><td class = \"rowNumber\" style = \"font-weight: bold; text-align: right;\">13</td><td style = \"text-align: left;\">2022-06-24</td><td style = \"text-align: right;\">9639</td><td style = \"text-align: right;\">4160.0</td><td style = \"text-align: right;\">4160.0</td><td style = \"text-align: right;\">4015.0</td><td style = \"text-align: right;\">2500</td><td style = \"text-align: right;\">-0.0293399</td><td style = \"text-align: right;\">4090.0</td><td style = \"text-align: right;\">4123.0</td><td style = \"text-align: right;\">0.0143325</td><td style = \"text-align: right;\">4306.88</td><td style = \"text-align: right;\">0.0282607</td><td style = \"text-align: right;\">4537.08</td><td style = \"text-align: right;\">0.0239864</td><td style = \"text-align: right;\">0.0552858</td></tr><tr><td style = \"text-align: right;\">&vellip;</td><td style = \"text-align: right;\">&vellip;</td><td style = \"text-align: right;\">&vellip;</td><td style = \"text-align: right;\">&vellip;</td><td style = \"text-align: right;\">&vellip;</td><td style = \"text-align: right;\">&vellip;</td><td style = \"text-align: right;\">&vellip;</td><td style = \"text-align: right;\">&vellip;</td><td style = \"text-align: right;\">&vellip;</td><td style = \"text-align: right;\">&vellip;</td><td style = \"text-align: right;\">&vellip;</td><td style = \"text-align: right;\">&vellip;</td><td style = \"text-align: right;\">&vellip;</td><td style = \"text-align: right;\">&vellip;</td><td style = \"text-align: right;\">&vellip;</td><td style = \"text-align: right;\">&vellip;</td></tr><tr><td class = \"rowNumber\" style = \"font-weight: bold; text-align: right;\">189</td><td style = \"text-align: left;\">2022-06-24</td><td style = \"text-align: right;\">7947</td><td style = \"text-align: right;\">2725.0</td><td style = \"text-align: right;\">2784.0</td><td style = \"text-align: right;\">2697.0</td><td style = \"text-align: right;\">293100</td><td style = \"text-align: right;\">-0.00567376</td><td style = \"text-align: right;\">2783.0</td><td style = \"text-align: right;\">2680.55</td><td style = \"text-align: right;\">0.0206285</td><td style = \"text-align: right;\">2696.7</td><td style = \"text-align: right;\">0.023927</td><td style = \"text-align: right;\">2748.28</td><td style = \"text-align: right;\">0.0210372</td><td style = \"text-align: right;\">0.0777077</td></tr><tr><td class = \"rowNumber\" style = \"font-weight: bold; text-align: right;\">190</td><td style = \"text-align: left;\">2022-06-24</td><td style = \"text-align: right;\">3197</td><td style = \"text-align: right;\">1617.0</td><td style = \"text-align: right;\">1621.0</td><td style = \"text-align: right;\">1607.0</td><td style = \"text-align: right;\">1120400</td><td style = \"text-align: right;\">-0.00561798</td><td style = \"text-align: right;\">1617.0</td><td style = \"text-align: right;\">1595.75</td><td style = \"text-align: right;\">0.00980059</td><td style = \"text-align: right;\">1569.15</td><td style = \"text-align: right;\">0.0103295</td><td style = \"text-align: right;\">1558.73</td><td style = \"text-align: right;\">0.0102454</td><td style = \"text-align: right;\">0.0309344</td></tr><tr><td class = \"rowNumber\" style = \"font-weight: bold; text-align: right;\">191</td><td style = \"text-align: left;\">2022-06-24</td><td style = \"text-align: right;\">3561</td><td style = \"text-align: right;\">720.0</td><td style = \"text-align: right;\">726.0</td><td style = \"text-align: right;\">713.0</td><td style = \"text-align: right;\">35300</td><td style = \"text-align: right;\">-0.00561798</td><td style = \"text-align: right;\">726.0</td><td style = \"text-align: right;\">711.7</td><td style = \"text-align: right;\">0.029673</td><td style = \"text-align: right;\">659.75</td><td style = \"text-align: right;\">0.024734</td><td style = \"text-align: right;\">626.617</td><td style = \"text-align: right;\">0.0215559</td><td style = \"text-align: right;\">0.0647652</td></tr><tr><td class = \"rowNumber\" style = \"font-weight: bold; text-align: right;\">192</td><td style = \"text-align: left;\">2022-06-24</td><td style = \"text-align: right;\">4452</td><td style = \"text-align: right;\">5450.0</td><td style = \"text-align: right;\">5664.0</td><td style = \"text-align: right;\">5448.0</td><td style = \"text-align: right;\">4049100</td><td style = \"text-align: right;\">-0.00555257</td><td style = \"text-align: right;\">5660.0</td><td style = \"text-align: right;\">5264.05</td><td style = \"text-align: right;\">0.0182233</td><td style = \"text-align: right;\">5189.15</td><td style = \"text-align: right;\">0.0199823</td><td style = \"text-align: right;\">5131.32</td><td style = \"text-align: right;\">0.0178376</td><td style = \"text-align: right;\">0.0605386</td></tr><tr><td class = \"rowNumber\" style = \"font-weight: bold; text-align: right;\">193</td><td style = \"text-align: left;\">2022-06-24</td><td style = \"text-align: right;\">7823</td><td style = \"text-align: right;\">718.0</td><td style = \"text-align: right;\">733.0</td><td style = \"text-align: right;\">718.0</td><td style = \"text-align: right;\">11500</td><td style = \"text-align: right;\">-0.0055325</td><td style = \"text-align: right;\">733.0</td><td style = \"text-align: right;\">731.25</td><td style = \"text-align: right;\">0.0144939</td><td style = \"text-align: right;\">733.825</td><td style = \"text-align: right;\">0.0161313</td><td style = \"text-align: right;\">728.967</td><td style = \"text-align: right;\">0.0147638</td><td style = \"text-align: right;\">0.0481461</td></tr><tr><td class = \"rowNumber\" style = \"font-weight: bold; text-align: right;\">194</td><td style = \"text-align: left;\">2022-06-24</td><td style = \"text-align: right;\">7244</td><td style = \"text-align: right;\">373.0</td><td style = \"text-align: right;\">374.0</td><td style = \"text-align: right;\">368.0</td><td style = \"text-align: right;\">133800</td><td style = \"text-align: right;\">-0.00543478</td><td style = \"text-align: right;\">368.0</td><td style = \"text-align: right;\">376.7</td><td style = \"text-align: right;\">0.0205004</td><td style = \"text-align: right;\">369.95</td><td style = \"text-align: right;\">0.0210336</td><td style = \"text-align: right;\">373.5</td><td style = \"text-align: right;\">0.0208147</td><td style = \"text-align: right;\">0.0557366</td></tr><tr><td class = \"rowNumber\" style = \"font-weight: bold; text-align: right;\">195</td><td style = \"text-align: left;\">2022-06-24</td><td style = \"text-align: right;\">3361</td><td style = \"text-align: right;\">891.0</td><td style = \"text-align: right;\">908.0</td><td style = \"text-align: right;\">890.0</td><td style = \"text-align: right;\">9200</td><td style = \"text-align: right;\">-0.00538793</td><td style = \"text-align: right;\">898.0</td><td style = \"text-align: right;\">881.45</td><td style = \"text-align: right;\">0.0144185</td><td style = \"text-align: right;\">869.675</td><td style = \"text-align: right;\">0.0221468</td><td style = \"text-align: right;\">884.6</td><td style = \"text-align: right;\">0.0194217</td><td style = \"text-align: right;\">0.0679646</td></tr><tr><td class = \"rowNumber\" style = \"font-weight: bold; text-align: right;\">196</td><td style = \"text-align: left;\">2022-06-24</td><td style = \"text-align: right;\">9115</td><td style = \"text-align: right;\">1114.0</td><td style = \"text-align: right;\">1134.0</td><td style = \"text-align: right;\">1095.0</td><td style = \"text-align: right;\">361800</td><td style = \"text-align: right;\">-0.00530504</td><td style = \"text-align: right;\">1109.0</td><td style = \"text-align: right;\">1345.0</td><td style = \"text-align: right;\">0.0555975</td><td style = \"text-align: right;\">1068.45</td><td style = \"text-align: right;\">0.0486882</td><td style = \"text-align: right;\">971.567</td><td style = \"text-align: right;\">0.0424497</td><td style = \"text-align: right;\">0.169239</td></tr><tr><td class = \"rowNumber\" style = \"font-weight: bold; text-align: right;\">197</td><td style = \"text-align: left;\">2022-06-24</td><td style = \"text-align: right;\">8111</td><td style = \"text-align: right;\">7500.0</td><td style = \"text-align: right;\">7570.0</td><td style = \"text-align: right;\">7420.0</td><td style = \"text-align: right;\">70400</td><td style = \"text-align: right;\">-0.00525624</td><td style = \"text-align: right;\">7560.0</td><td style = \"text-align: right;\">7983.0</td><td style = \"text-align: right;\">0.0168979</td><td style = \"text-align: right;\">7468.75</td><td style = \"text-align: right;\">0.020971</td><td style = \"text-align: right;\">7043.5</td><td style = \"text-align: right;\">0.0197043</td><td style = \"text-align: right;\">0.0708987</td></tr><tr><td class = \"rowNumber\" style = \"font-weight: bold; text-align: right;\">198</td><td style = \"text-align: left;\">2022-06-24</td><td style = \"text-align: right;\">8699</td><td style = \"text-align: right;\">1339.0</td><td style = \"text-align: right;\">1365.0</td><td style = \"text-align: right;\">1324.0</td><td style = \"text-align: right;\">195300</td><td style = \"text-align: right;\">-0.00525131</td><td style = \"text-align: right;\">1348.0</td><td style = \"text-align: right;\">1321.65</td><td style = \"text-align: right;\">0.015198</td><td style = \"text-align: right;\">1297.1</td><td style = \"text-align: right;\">0.0169288</td><td style = \"text-align: right;\">1308.22</td><td style = \"text-align: right;\">0.0160262</td><td style = \"text-align: right;\">0.0560988</td></tr><tr><td class = \"rowNumber\" style = \"font-weight: bold; text-align: right;\">199</td><td style = \"text-align: left;\">2022-06-24</td><td style = \"text-align: right;\">9795</td><td style = \"text-align: right;\">1704.0</td><td style = \"text-align: right;\">1719.0</td><td style = \"text-align: right;\">1691.0</td><td style = \"text-align: right;\">8300</td><td style = \"text-align: right;\">-0.00522952</td><td style = \"text-align: right;\">1697.0</td><td style = \"text-align: right;\">1738.55</td><td style = \"text-align: right;\">0.0181062</td><td style = \"text-align: right;\">1745.72</td><td style = \"text-align: right;\">0.0160249</td><td style = \"text-align: right;\">1755.88</td><td style = \"text-align: right;\">0.0161411</td><td style = \"text-align: right;\">0.0493556</td></tr><tr><td class = \"rowNumber\" style = \"font-weight: bold; text-align: right;\">200</td><td style = \"text-align: left;\">2022-06-24</td><td style = \"text-align: right;\">6857</td><td style = \"text-align: right;\">7090.0</td><td style = \"text-align: right;\">7440.0</td><td style = \"text-align: right;\">7070.0</td><td style = \"text-align: right;\">2104300</td><td style = \"text-align: right;\">-0.00521512</td><td style = \"text-align: right;\">7390.0</td><td style = \"text-align: right;\">8135.5</td><td style = \"text-align: right;\">0.0250298</td><td style = \"text-align: right;\">8351.75</td><td style = \"text-align: right;\">0.0252212</td><td style = \"text-align: right;\">8520.33</td><td style = \"text-align: right;\">0.0246677</td><td style = \"text-align: right;\">0.0823179</td></tr></tbody></table></div>"
      ],
      "text/latex": [
       "\\begin{tabular}{r|ccccccccc}\n",
       "\t& Date & SecuritiesCode & Open & High & Low & Volume & Target & AdjustedClose & \\\\\n",
       "\t\\hline\n",
       "\t& Date & Int64 & Float64 & Float64 & Float64 & Int64 & Float64 & Float64 & \\\\\n",
       "\t\\hline\n",
       "\t1 & 2022-06-24 & 4772 & 185.0 & 221.0 & 181.0 & 6564100 & -0.068 & 203.0 & $\\dots$ \\\\\n",
       "\t2 & 2022-06-24 & 3660 & 232.0 & 239.0 & 229.0 & 1076100 & -0.0472103 & 235.0 & $\\dots$ \\\\\n",
       "\t3 & 2022-06-24 & 3031 & 1840.0 & 1899.0 & 1816.0 & 1153500 & -0.0436836 & 1826.0 & $\\dots$ \\\\\n",
       "\t4 & 2022-06-24 & 1407 & 4155.0 & 4460.0 & 3805.0 & 1700800 & -0.0431566 & 4390.0 & $\\dots$ \\\\\n",
       "\t5 & 2022-06-24 & 4058 & 1323.0 & 1388.0 & 1317.0 & 19400 & -0.0393701 & 1387.0 & $\\dots$ \\\\\n",
       "\t6 & 2022-06-24 & 6094 & 1842.0 & 1887.0 & 1781.0 & 83800 & -0.0387513 & 1876.0 & $\\dots$ \\\\\n",
       "\t7 & 2022-06-24 & 4449 & 1138.0 & 1249.0 & 1138.0 & 2151600 & -0.0384924 & 1233.0 & $\\dots$ \\\\\n",
       "\t8 & 2022-06-24 & 7630 & 4945.0 & 4975.0 & 4930.0 & 27600 & -0.0365112 & 4975.0 & $\\dots$ \\\\\n",
       "\t9 & 2022-06-24 & 4054 & 1050.0 & 1073.0 & 1038.0 & 56600 & -0.0362745 & 1042.0 & $\\dots$ \\\\\n",
       "\t10 & 2022-06-24 & 7036 & 2313.0 & 2440.0 & 2313.0 & 7300 & -0.0358499 & 2371.0 & $\\dots$ \\\\\n",
       "\t11 & 2022-06-24 & 4434 & 2241.0 & 2317.0 & 2191.0 & 59900 & -0.0350649 & 2280.0 & $\\dots$ \\\\\n",
       "\t12 & 2022-06-24 & 6612 & 3840.0 & 3920.0 & 3820.0 & 16400 & -0.0326797 & 3830.0 & $\\dots$ \\\\\n",
       "\t13 & 2022-06-24 & 9639 & 4160.0 & 4160.0 & 4015.0 & 2500 & -0.0293399 & 4090.0 & $\\dots$ \\\\\n",
       "\t14 & 2022-06-24 & 3491 & 1281.0 & 1393.0 & 1268.0 & 474000 & -0.0292023 & 1380.0 & $\\dots$ \\\\\n",
       "\t15 & 2022-06-24 & 6071 & 737.0 & 763.0 & 731.0 & 538400 & -0.0287958 & 763.0 & $\\dots$ \\\\\n",
       "\t16 & 2022-06-24 & 4478 & 3250.0 & 3525.0 & 3220.0 & 741700 & -0.0285714 & 3495.0 & $\\dots$ \\\\\n",
       "\t17 & 2022-06-24 & 3333 & 1292.0 & 1299.0 & 1291.0 & 36600 & -0.028396 & 1298.0 & $\\dots$ \\\\\n",
       "\t18 & 2022-06-24 & 2148 & 1582.0 & 1631.0 & 1582.0 & 53400 & -0.0282903 & 1631.0 & $\\dots$ \\\\\n",
       "\t19 & 2022-06-24 & 3966 & 786.0 & 843.0 & 785.0 & 306100 & -0.0277778 & 839.0 & $\\dots$ \\\\\n",
       "\t20 & 2022-06-24 & 8202 & 281.0 & 305.0 & 281.0 & 2056300 & -0.0273973 & 305.0 & $\\dots$ \\\\\n",
       "\t21 & 2022-06-24 & 4382 & 808.0 & 873.0 & 808.0 & 172100 & -0.0273038 & 852.0 & $\\dots$ \\\\\n",
       "\t22 & 2022-06-24 & 9467 & 2164.0 & 2196.0 & 2134.0 & 19700 & -0.0263852 & 2166.0 & $\\dots$ \\\\\n",
       "\t23 & 2022-06-24 & 3903 & 607.0 & 648.0 & 607.0 & 1613200 & -0.0262751 & 640.0 & $\\dots$ \\\\\n",
       "\t24 & 2022-06-24 & 6750 & 1514.0 & 1539.0 & 1511.0 & 107700 & -0.0258732 & 1539.0 & $\\dots$ \\\\\n",
       "\t25 & 2022-06-24 & 2412 & 1829.0 & 1873.0 & 1810.0 & 806100 & -0.0255319 & 1866.0 & $\\dots$ \\\\\n",
       "\t26 & 2022-06-24 & 8217 & 873.0 & 880.0 & 871.0 & 26900 & -0.0250284 & 874.0 & $\\dots$ \\\\\n",
       "\t27 & 2022-06-24 & 4689 & 405.4 & 417.6 & 404.8 & 14491400 & -0.024952 & 415.9 & $\\dots$ \\\\\n",
       "\t28 & 2022-06-24 & 3221 & 2592.0 & 2597.0 & 2534.0 & 27000 & -0.0245493 & 2557.0 & $\\dots$ \\\\\n",
       "\t29 & 2022-06-24 & 3179 & 1409.0 & 1444.0 & 1407.0 & 169700 & -0.0245399 & 1443.0 & $\\dots$ \\\\\n",
       "\t30 & 2022-06-24 & 9083 & 3235.0 & 3235.0 & 3235.0 & 100 & -0.0243161 & 3235.0 & $\\dots$ \\\\\n",
       "\t$\\dots$ & $\\dots$ & $\\dots$ & $\\dots$ & $\\dots$ & $\\dots$ & $\\dots$ & $\\dots$ & $\\dots$ &  \\\\\n",
       "\\end{tabular}\n"
      ],
      "text/plain": [
       "\u001b[1m200×15 DataFrame\u001b[0m\n",
       "\u001b[1m Row \u001b[0m│\u001b[1m Date       \u001b[0m\u001b[1m SecuritiesCode \u001b[0m\u001b[1m Open    \u001b[0m\u001b[1m High    \u001b[0m\u001b[1m Low     \u001b[0m\u001b[1m Volume  \u001b[0m\u001b[1m Target \u001b[0m ⋯\n",
       "     │\u001b[90m Date       \u001b[0m\u001b[90m Int64          \u001b[0m\u001b[90m Float64 \u001b[0m\u001b[90m Float64 \u001b[0m\u001b[90m Float64 \u001b[0m\u001b[90m Int64   \u001b[0m\u001b[90m Float64\u001b[0m ⋯\n",
       "─────┼──────────────────────────────────────────────────────────────────────────\n",
       "   1 │ 2022-06-24            4772    185.0    221.0    181.0  6564100  -0.068  ⋯\n",
       "   2 │ 2022-06-24            3660    232.0    239.0    229.0  1076100  -0.0472\n",
       "   3 │ 2022-06-24            3031   1840.0   1899.0   1816.0  1153500  -0.0436\n",
       "   4 │ 2022-06-24            1407   4155.0   4460.0   3805.0  1700800  -0.0431\n",
       "   5 │ 2022-06-24            4058   1323.0   1388.0   1317.0    19400  -0.0393 ⋯\n",
       "   6 │ 2022-06-24            6094   1842.0   1887.0   1781.0    83800  -0.0387\n",
       "   7 │ 2022-06-24            4449   1138.0   1249.0   1138.0  2151600  -0.0384\n",
       "   8 │ 2022-06-24            7630   4945.0   4975.0   4930.0    27600  -0.0365\n",
       "   9 │ 2022-06-24            4054   1050.0   1073.0   1038.0    56600  -0.0362 ⋯\n",
       "  10 │ 2022-06-24            7036   2313.0   2440.0   2313.0     7300  -0.0358\n",
       "  11 │ 2022-06-24            4434   2241.0   2317.0   2191.0    59900  -0.0350\n",
       "  ⋮  │     ⋮             ⋮            ⋮        ⋮        ⋮        ⋮          ⋮  ⋱\n",
       " 191 │ 2022-06-24            3561    720.0    726.0    713.0    35300  -0.0056\n",
       " 192 │ 2022-06-24            4452   5450.0   5664.0   5448.0  4049100  -0.0055 ⋯\n",
       " 193 │ 2022-06-24            7823    718.0    733.0    718.0    11500  -0.0055\n",
       " 194 │ 2022-06-24            7244    373.0    374.0    368.0   133800  -0.0054\n",
       " 195 │ 2022-06-24            3361    891.0    908.0    890.0     9200  -0.0053\n",
       " 196 │ 2022-06-24            9115   1114.0   1134.0   1095.0   361800  -0.0053 ⋯\n",
       " 197 │ 2022-06-24            8111   7500.0   7570.0   7420.0    70400  -0.0052\n",
       " 198 │ 2022-06-24            8699   1339.0   1365.0   1324.0   195300  -0.0052\n",
       " 199 │ 2022-06-24            9795   1704.0   1719.0   1691.0     8300  -0.0052\n",
       " 200 │ 2022-06-24            6857   7090.0   7440.0   7070.0  2104300  -0.0052 ⋯\n",
       "\u001b[36m                                                  9 columns and 179 rows omitted\u001b[0m"
      ]
     },
     "execution_count": 45,
     "metadata": {},
     "output_type": "execute_result"
    }
   ],
   "source": [
    "idx = df[!,:Date] .== Date(2022,6,24)\n",
    "df_2022_06_24 = df[idx,:]\n",
    "    \n",
    "# extract the 200 performing stocks based on the value of Target for the date \"2022-06-23\"\n",
    "df_2022_06_24_top = sort(df_2022_06_24, :Target, rev=true)[1:200,:]\n",
    "# same for the 200 worst performing stocks\n",
    "df_2022_06_24_bottom = sort(df_2022_06_24, :Target, rev=false)[1:200,:]"
   ]
  },
  {
   "cell_type": "code",
   "execution_count": 89,
   "metadata": {},
   "outputs": [
    {
     "data": {
      "text/plain": [
       "2.115695049694926"
      ]
     },
     "execution_count": 89,
     "metadata": {},
     "output_type": "execute_result"
    }
   ],
   "source": [
    "sum(w_opt_baseline[i] * df_2022_06_24_top[!,\"Target\"][i] for i in 1:200) + sum(w_opt_baseline[i] * df_2022_06_24_bottom[!,\"Target\"][i] for i in 1:200)"
   ]
  },
  {
   "cell_type": "code",
   "execution_count": 91,
   "metadata": {},
   "outputs": [
    {
     "data": {
      "text/plain": [
       "oracle_policy (generic function with 1 method)"
      ]
     },
     "execution_count": 91,
     "metadata": {},
     "output_type": "execute_result"
    }
   ],
   "source": [
    "function oracle_policy(df_2022_06_24_top, df_2022_06_24_bottom, C, D)\n",
    "    Random.seed!(42)\n",
    "    m = Model(Gurobi.Optimizer)\n",
    "    set_optimizer_attribute(m, \"OutputFlag\", 0)\n",
    "\n",
    "\n",
    "    #we select the top 200 stocks to buy and the bottom 200 stocks to shorts\n",
    "    @variable(m, w[1:400]>=0);\n",
    "    @objective(m, Max, sum(w[i] * df_2022_06_24_top[!,\"Target\"][i] for i in 1:200) + sum(w[i] * df_2022_06_24_bottom[!,\"Target\"][i] for i in 1:200))\n",
    "    \n",
    "    #add the constraint that the max of drawdowns on the day 2022/06/23 weighted by w is less that C\n",
    "    @constraint(m, (sum(w[i] * df_2022_06_24_top[!,\"Drawdown\"][i] for i in 1:200) + sum(w[i] * df_2022_06_24_bottom[!,\"Drawdown\"][i] for i in 1:200))/600 <= C)\n",
    "    \n",
    "    #sum of w should be equal to D\n",
    "    @constraint(m, sum(w) == D)\n",
    "    optimize!(m)\n",
    "    #return the value of w\n",
    "    return value.(w)\n",
    "\n",
    "end"
   ]
  },
  {
   "cell_type": "code",
   "execution_count": 92,
   "metadata": {},
   "outputs": [
    {
     "name": "stdout",
     "output_type": "stream",
     "text": [
      "Set parameter Username\r\n",
      "Academic license - for non-commercial use only - expires 2023-08-18\r\n"
     ]
    },
    {
     "data": {
      "text/plain": [
       "400-element Vector{Float64}:\n",
       " 0.0\n",
       " 0.0\n",
       " 0.0\n",
       " 0.0\n",
       " 0.0\n",
       " 0.0\n",
       " 0.0\n",
       " 0.0\n",
       " 0.0\n",
       " 0.0\n",
       " 0.0\n",
       " 0.0\n",
       " 0.0\n",
       " ⋮\n",
       " 0.0\n",
       " 0.0\n",
       " 0.0\n",
       " 0.0\n",
       " 0.0\n",
       " 0.0\n",
       " 0.0\n",
       " 0.0\n",
       " 0.0\n",
       " 0.0\n",
       " 0.0\n",
       " 0.0"
      ]
     },
     "execution_count": 92,
     "metadata": {},
     "output_type": "execute_result"
    }
   ],
   "source": [
    "w_opt_oracle = oracle_policy(df_2022_06_24_top, df_2022_06_24_bottom, 0.01, 600)"
   ]
  },
  {
   "cell_type": "code",
   "execution_count": 93,
   "metadata": {},
   "outputs": [
    {
     "data": {
      "text/plain": [
       "3.138319003050813"
      ]
     },
     "execution_count": 93,
     "metadata": {},
     "output_type": "execute_result"
    }
   ],
   "source": [
    "sum(w_opt_oracle[i] * df_2022_06_24_top[!,\"Target\"][i] for i in 1:200) + sum(w_opt_oracle[i] * df_2022_06_24_bottom[!,\"Target\"][i] for i in 1:200)"
   ]
  },
  {
   "cell_type": "code",
   "execution_count": 77,
   "metadata": {},
   "outputs": [
    {
     "name": "stdout",
     "output_type": "stream",
     "text": [
      "[1693083, 2026018, 352985, 1949937, 1907759, 1360911, 1985741, 1922401, 443258, 605920, 565624, 1509372, 1922625, 353424, 1922538, 1334464, 1907195, 516023, 581672, 386075, 1971262, 207014, 937716, 538104, 1971314]\n"
     ]
    }
   ],
   "source": [
    "using NearestNeighbors, Statistics\n",
    "df_train = df[df[:, :Date] .!= Date(2022,6,24),:]\n",
    "X_train = df_train[:, Not([1,2,7,15])]\n",
    "y_train = df_train[:, :Target]\n",
    "X_test_top = df_2022_06_24_top[:, Not([1,2,7,15])]\n",
    "y_test_top = df_2022_06_24_top[:, :Target]\n",
    "X_test_bottom = df_2022_06_24_bottom[:, Not([1,2,7,15])]\n",
    "y_test_bottom = df_2022_06_24_bottom[:, :Target]\n",
    "\n",
    "num_neighbors = 25\n",
    "kdtree = KDTree(Matrix(X_train)'; leafsize = 10)\n",
    "indices_top, dists_top = knn(kdtree, Matrix(X_test_top)', num_neighbors)\n",
    "indices_bottom, dists_bottom = knn(kdtree, Matrix(X_test_bottom)', num_neighbors)\n",
    "println(indices_top[1])\n",
    "#z = round(sum(y_train[i] for i in indices) / num_neighbors)\n",
    "#MAE_Component[i]=abs.(z-yDataTesting[1])\n",
    "y_pred_top = zeros(200)\n",
    "y_pred_bottom = zeros(200)\n",
    "for i in 1:200\n",
    "    y_pred_top[i] = mean(y_train[indices_top[i]])\n",
    "    y_pred_bottom[i] = mean(y_train[indices_bottom[i]])\n",
    "end\n",
    "\n",
    "drawdown_top = zeros(200)\n",
    "drawdown_bottom = zeros(200)\n",
    "for i in 1:200\n",
    "    drawdown_top[i] = mean(df_train[indices_top[i],:Drawdown])\n",
    "    drawdown_bottom[i] = mean(df_train[indices_bottom[i],:Drawdown])\n",
    "end\n",
    "#first(X_train, 10)"
   ]
  },
  {
   "cell_type": "code",
   "execution_count": 78,
   "metadata": {},
   "outputs": [
    {
     "data": {
      "text/plain": [
       "(200,)"
      ]
     },
     "execution_count": 78,
     "metadata": {},
     "output_type": "execute_result"
    }
   ],
   "source": [
    "size(drawdown_top)"
   ]
  },
  {
   "cell_type": "code",
   "execution_count": 81,
   "metadata": {},
   "outputs": [
    {
     "data": {
      "text/plain": [
       "knn_prescription (generic function with 1 method)"
      ]
     },
     "execution_count": 81,
     "metadata": {},
     "output_type": "execute_result"
    }
   ],
   "source": [
    "using NearestNeighbors\n",
    "function knn_prescription(y_pred_top, y_pred_bottom, drawdown_top, drawdown_bottom, C, D)\n",
    "    Random.seed!(42)\n",
    "    m = Model(Gurobi.Optimizer)\n",
    "    set_optimizer_attribute(m, \"OutputFlag\", 0) \n",
    "    \n",
    "    #we select the top 200 stocks to buy and the bottom 200 stocks to shorts\n",
    "    @variable(m, w[1:400]>=0);\n",
    "    @objective(m, Max, sum(w[i] * y_pred_top[i] for i in 1:200) + sum(w[i] * y_pred_bottom[i] for i in 1:200))\n",
    "    \n",
    "    #add the constraint that the max of drawdowns on the day 2022/06/23 weighted by w is less that C\n",
    "    @constraint(m, (sum(w[i] * drawdown_top[i] for i in 1:200) + sum(w[i] * drawdown_bottom[i] for i in 1:200))/600 <= C)\n",
    "    \n",
    "    #sum of w should be equal to D\n",
    "    @constraint(m, sum(w) == D)\n",
    "    optimize!(m)\n",
    "    #return the value of w\n",
    "    return value.(w)\n",
    "\n",
    "end"
   ]
  },
  {
   "cell_type": "code",
   "execution_count": 84,
   "metadata": {},
   "outputs": [
    {
     "name": "stdout",
     "output_type": "stream",
     "text": [
      "Set parameter Username\r\n",
      "Academic license - for non-commercial use only - expires 2023-08-18\r\n"
     ]
    },
    {
     "data": {
      "text/plain": [
       "400-element Vector{Float64}:\n",
       "  0.0\n",
       " 24.271722036636312\n",
       "  0.0\n",
       "  0.0\n",
       "  0.0\n",
       "  0.0\n",
       "  0.0\n",
       "  0.0\n",
       "  0.0\n",
       "  0.0\n",
       "  0.0\n",
       "  0.0\n",
       "  0.0\n",
       "  ⋮\n",
       "  0.0\n",
       "  0.0\n",
       "  0.0\n",
       "  0.0\n",
       "  0.0\n",
       "  0.0\n",
       "  0.0\n",
       "  0.0\n",
       "  0.0\n",
       "  0.0\n",
       "  0.0\n",
       "  0.0"
      ]
     },
     "execution_count": 84,
     "metadata": {},
     "output_type": "execute_result"
    }
   ],
   "source": [
    "w_opt_knn = knn_prescription(y_pred_top, y_pred_bottom, drawdown_top, drawdown_bottom, 0.01, 600)"
   ]
  },
  {
   "cell_type": "code",
   "execution_count": 85,
   "metadata": {},
   "outputs": [
    {
     "data": {
      "text/plain": [
       "600.0"
      ]
     },
     "execution_count": 85,
     "metadata": {},
     "output_type": "execute_result"
    }
   ],
   "source": [
    "sum(w_opt_knn)"
   ]
  },
  {
   "cell_type": "code",
   "execution_count": 86,
   "metadata": {},
   "outputs": [
    {
     "data": {
      "text/plain": [
       "1.918010727175761"
      ]
     },
     "execution_count": 86,
     "metadata": {},
     "output_type": "execute_result"
    }
   ],
   "source": [
    "sum(w_opt_knn[i] * df_2022_06_24_top[!,\"Target\"][i] for i in 1:200) + sum(w_opt_knn[i] * df_2022_06_24_bottom[!,\"Target\"][i] for i in 1:200)"
   ]
  },
  {
   "cell_type": "code",
   "execution_count": null,
   "metadata": {},
   "outputs": [],
   "source": []
  }
 ],
 "metadata": {
  "kernelspec": {
   "display_name": "Julia 1.8.2",
   "language": "julia",
   "name": "julia-1.8"
  },
  "language_info": {
   "file_extension": ".jl",
   "mimetype": "application/julia",
   "name": "julia",
   "version": "1.8.2"
  }
 },
 "nbformat": 4,
 "nbformat_minor": 4
}
