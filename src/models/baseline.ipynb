{
 "cells": [
  {
   "cell_type": "code",
   "execution_count": 1,
   "metadata": {},
   "outputs": [],
   "source": [
    " "
   ]
  },
  {
   "cell_type": "code",
   "execution_count": 2,
   "metadata": {},
   "outputs": [
    {
     "data": {
      "text/plain": [
       "466507-element Vector{Float64}:\n",
       "  0.0076267384477344\n",
       " -0.0160284951024042\n",
       "  0.0167420814479637\n",
       " -0.0111259457053849\n",
       "  0.0022502250225022\n",
       "  0.0035922766052987\n",
       "  0.0062639821029082\n",
       " -0.0022232103156958\n",
       "  0.0164884135472371\n",
       "  0.0258658483121438\n",
       "  0.0192307692307691\n",
       " -0.0054507337526205\n",
       " -0.0126475548060708\n",
       "  ⋮\n",
       "  0.0\n",
       " -0.0055865921787709\n",
       " -0.0126404494382021\n",
       "  0.0042674253200569\n",
       " -0.0254957507082153\n",
       " -0.0290697674418605\n",
       " -0.0014970059880239\n",
       "  0.0269865067466266\n",
       " -0.0014598540145985\n",
       "  0.0175438596491228\n",
       "  0.014367816091954\n",
       "  0.0184135977337109"
      ]
     },
     "execution_count": 2,
     "metadata": {},
     "output_type": "execute_result"
    }
   ],
   "source": [
    "# Read in the data\n",
    "df = CSV.read(\"../../data/preprocessed/stock_prices_train.csv\",DataFrame)\n",
    "# remove missing \n",
    "df = df[completecases(df),:]\n",
    "# drop RowID, Date, SecuritiesCode from df\n",
    "y = df[:, :Target]\n",
    "#X = df[:, Not([1,2,3,12])] why removing 3 and 12?\n",
    "X = df[:, Not([1,2])]\n",
    "# split into train/test\n",
    "train_size = Int(floor(0.8*size(X,1)))\n",
    "X_train = X[1:train_size,:]\n",
    "X_test = X[train_size+1:end,:]\n",
    "y_train = y[1:train_size]\n",
    "y_test = y[train_size+1:end]"
   ]
  },
  {
   "cell_type": "code",
   "execution_count": null,
   "metadata": {},
   "outputs": [],
   "source": [
    "df_test = CSV.read(\"../../data/preprocessed/stock_prices_supplemental.csv\",DataFrame)\n",
    "y_test = y = df[:, :Target]\n",
    "X_test = df[:, Not([1,2])]"
   ]
  },
  {
   "cell_type": "code",
   "execution_count": null,
   "metadata": {},
   "outputs": [],
   "source": [
    "# Run linear regression \n"
   ]
  },
  {
   "cell_type": "code",
   "execution_count": 3,
   "metadata": {},
   "outputs": [
    {
     "name": "stderr",
     "output_type": "stream",
     "text": [
      "┌ Warning: This copy of Interpretable AI software is for academic purposes only and not for commercial use.\n",
      "└ @ nothing nothing:nothing\n",
      "┌ Warning: Interpretable AI license expires soon: 2022-12-31T00:00:00. If you need to renew, please send us the following machine ID:\n",
      "│ 90feab63202e1ce4738c9f8316af63ad83f6344d3b63e878e7f54e8248f156e6\n",
      "└ @ nothing nothing:nothing\n"
     ]
    },
    {
     "ename": "LoadError",
     "evalue": "obj mismatch: before 3.285681826866494 after 3.2856819252519927",
     "output_type": "error",
     "traceback": [
      "obj mismatch: before 3.285681826866494 after 3.2856819252519927",
      "",
      "Stacktrace:",
      "  [1] greedy_search!(tree::IAITrees.Tree{IAIBase.RegressionTask, IAITrees.Node{IAIBase.RegressionTask, IAIBase.RegressionFit}}, gs::OptimalTrees.LocalSearcher{IAIBase.RegressionTask, OptimalTrees.RegressionEvaluatorMSEConstant, IAIBase.RegressionTarget})",
      "    @ OptimalTrees C:\\Users\\iai\\builds\\InterpretableAI\\SystemImage\\SysImgBuilder\\.julia\\packages\\OptimalTrees\\XmGmS\\src\\localsearch\\greedy.jl:76",
      "  [2] run_worker_iteration!(rep::Int64, show_progress::Bool, ls::OptimalTrees.LocalSearcher{IAIBase.RegressionTask, OptimalTrees.RegressionEvaluatorMSEConstant, IAIBase.RegressionTarget}, gs::OptimalTrees.LocalSearcher{IAIBase.RegressionTask, OptimalTrees.RegressionEvaluatorMSEConstant, IAIBase.RegressionTarget}, rng_gen::IAIBase.RandomStreams.MRG32k3aGen)",
      "    @ OptimalTrees C:\\Users\\iai\\builds\\InterpretableAI\\SystemImage\\SysImgBuilder\\.julia\\packages\\OptimalTrees\\XmGmS\\src\\localsearch\\distributed.jl:82",
      "  [3] run_task(tid::Int64, f_run::Function, f_setup::Function, job_channel::Channel{Int64}, results_channel::Channel{Any}, progress::IAIBase.Progress, uses_subprogress::Bool, obj::Tuple{OptimalTrees.LocalSearcher{IAIBase.RegressionTask, OptimalTrees.RegressionEvaluatorMSEConstant, IAIBase.RegressionTarget}, OptimalTrees.LocalSearcher{IAIBase.RegressionTask, OptimalTrees.RegressionEvaluatorMSEConstant, IAIBase.RegressionTarget}})",
      "    @ IAIBase C:\\Users\\iai\\builds\\InterpretableAI\\SystemImage\\SysImgBuilder\\.julia\\packages\\IAIBase\\qNs6I\\src\\utils\\distributed.jl:229",
      "  [4] spawn_tasks(::Int64, ::Int64, ::Function, ::Vararg{Any})",
      "    @ IAIBase C:\\Users\\iai\\builds\\InterpretableAI\\SystemImage\\SysImgBuilder\\.julia\\packages\\IAIBase\\qNs6I\\src\\utils\\distributed.jl:195",
      "  [5] macro expansion",
      "    @ C:\\Users\\iai\\builds\\InterpretableAI\\SystemImage\\SysImgBuilder\\.julia\\packages\\IAIBase\\qNs6I\\src\\utils\\distributed.jl:156 [inlined]",
      "  [6] macro expansion",
      "    @ .\\task.jl:454 [inlined]",
      "  [7] run_distributed!(f_consume::Function, obj::Tuple{OptimalTrees.LocalSearcher{IAIBase.RegressionTask, OptimalTrees.RegressionEvaluatorMSEConstant, IAIBase.RegressionTarget}, OptimalTrees.LocalSearcher{IAIBase.RegressionTask, OptimalTrees.RegressionEvaluatorMSEConstant, IAIBase.RegressionTarget}}, f_run::Function, f_setup::Function, jobs::Vector{Int64}, procs::Vector{Int64}, n_threads::Int64, progress::IAIBase.Progress, uses_subprogress::Bool, f_checkpoint::OptimalTrees.var\"#104#108\"{OptimalTrees.OptimalTreeRegressor, Int64})",
      "    @ IAIBase C:\\Users\\iai\\builds\\InterpretableAI\\SystemImage\\SysImgBuilder\\.julia\\packages\\IAIBase\\qNs6I\\src\\utils\\distributed.jl:144",
      "  [8] run_distributed(show_progress::Bool, procs::Vector{Int64}, n_threads::Int64, jobs::Vector{Int64}, message::String; iter_func::Function, iter_input::Tuple{OptimalTrees.LocalSearcher{IAIBase.RegressionTask, OptimalTrees.RegressionEvaluatorMSEConstant, IAIBase.RegressionTarget}, OptimalTrees.LocalSearcher{IAIBase.RegressionTask, OptimalTrees.RegressionEvaluatorMSEConstant, IAIBase.RegressionTarget}}, iter_setup::Function, iter_uses_subprogress::Bool, consume_func::Function, checkpoint_func::Function)",
      "    @ IAIBase C:\\Users\\iai\\builds\\InterpretableAI\\SystemImage\\SysImgBuilder\\.julia\\packages\\IAIBase\\qNs6I\\src\\utils\\distributed.jl:102",
      "  [9] run_distributed(::OptimalTrees.OptimalTreeRegressor, ::Vector{Int64}, ::Vararg{Any}; show_progress::Bool, kwargs::Base.Pairs{Symbol, Any, NTuple{6, Symbol}, NamedTuple{(:iter_input, :iter_setup, :iter_func, :iter_uses_subprogress, :consume_func, :checkpoint_func), Tuple{Tuple{OptimalTrees.LocalSearcher{IAIBase.RegressionTask, OptimalTrees.RegressionEvaluatorMSEConstant, IAIBase.RegressionTarget}, OptimalTrees.LocalSearcher{IAIBase.RegressionTask, OptimalTrees.RegressionEvaluatorMSEConstant, IAIBase.RegressionTarget}}, typeof(OptimalTrees.task_local_copy), typeof(OptimalTrees.run_worker_iteration!), Bool, OptimalTrees.var\"#103#107\"{OptimalTrees.OptimalTreeRegressor}, OptimalTrees.var\"#104#108\"{OptimalTrees.OptimalTreeRegressor, Int64}}}})",
      "    @ IAIBase C:\\Users\\iai\\builds\\InterpretableAI\\SystemImage\\SysImgBuilder\\.julia\\packages\\IAIBase\\qNs6I\\src\\learner.jl:404",
      " [10] _fit!(lnr::OptimalTrees.OptimalTreeRegressor, ls::OptimalTrees.LocalSearcher{IAIBase.RegressionTask, OptimalTrees.RegressionEvaluatorMSEConstant, IAIBase.RegressionTarget}, gs::OptimalTrees.LocalSearcher{IAIBase.RegressionTask, OptimalTrees.RegressionEvaluatorMSEConstant, IAIBase.RegressionTarget}, is_resuming::Bool)",
      "    @ OptimalTrees C:\\Users\\iai\\builds\\InterpretableAI\\SystemImage\\SysImgBuilder\\.julia\\packages\\OptimalTrees\\XmGmS\\src\\localsearch\\distributed.jl:21",
      " [11] _fit!(lnr::OptimalTrees.OptimalTreeRegressor; is_resuming::Bool)",
      "    @ OptimalTrees C:\\Users\\iai\\builds\\InterpretableAI\\SystemImage\\SysImgBuilder\\.julia\\packages\\OptimalTrees\\XmGmS\\src\\localsearch\\distributed.jl:7",
      " [12] _fit!",
      "    @ C:\\Users\\iai\\builds\\InterpretableAI\\SystemImage\\SysImgBuilder\\.julia\\packages\\OptimalTrees\\XmGmS\\src\\localsearch\\distributed.jl:2 [inlined]",
      " [13] #263",
      "    @ C:\\Users\\iai\\builds\\InterpretableAI\\SystemImage\\SysImgBuilder\\.julia\\packages\\IAIBase\\qNs6I\\src\\api.jl:153 [inlined]",
      " [14] acquire_license(f::IAIBase.var\"#263#264\"{Base.Pairs{Symbol, Union{}, Tuple{}, NamedTuple{(), Tuple{}}}, OptimalTrees.OptimalTreeRegressor}; parallel_processes::Vector{Int64})",
      "    @ IAILicensing C:\\Users\\iai\\builds\\InterpretableAI\\SystemImage\\SysImgBuilder\\.julia\\packages\\IAILicensing\\DIQRU\\src\\licensing.jl:266",
      " [15] acquire_license(f::Function, lnr::OptimalTrees.OptimalTreeRegressor)",
      "    @ IAIBase C:\\Users\\iai\\builds\\InterpretableAI\\SystemImage\\SysImgBuilder\\.julia\\packages\\IAIBase\\qNs6I\\src\\learner.jl:552",
      " [16] _fit!(lnr::OptimalTrees.OptimalTreeRegressor, data::IAIBase.Data{IAIBase.RegressionTask, IAIBase.RegressionTarget}; kwargs::Base.Pairs{Symbol, Union{}, Tuple{}, NamedTuple{(), Tuple{}}})",
      "    @ IAIBase C:\\Users\\iai\\builds\\InterpretableAI\\SystemImage\\SysImgBuilder\\.julia\\packages\\IAIBase\\qNs6I\\src\\api.jl:152",
      " [17] _fit!",
      "    @ C:\\Users\\iai\\builds\\InterpretableAI\\SystemImage\\SysImgBuilder\\.julia\\packages\\IAIBase\\qNs6I\\src\\api.jl:145 [inlined]",
      " [18] grid_fit!(lnr::OptimalTrees.OptimalTreeRegressor, data::IAIBase.Data{IAIBase.RegressionTask, IAIBase.RegressionTarget}, fold::Tuple{Vector{Int64}, Vector{Int64}}, params::Dict{Symbol, Any}, validation_criterion::Symbol; is_resuming::Bool, kwargs::Base.Pairs{Symbol, Union{}, Tuple{}, NamedTuple{(), Tuple{}}})",
      "    @ IAITrees C:\\Users\\iai\\builds\\InterpretableAI\\SystemImage\\SysImgBuilder\\.julia\\packages\\IAITrees\\g4tqV\\src\\gridsearch.jl:106",
      " [19] macro expansion",
      "    @ C:\\Users\\iai\\builds\\InterpretableAI\\SystemImage\\SysImgBuilder\\.julia\\packages\\IAIBase\\qNs6I\\src\\gridsearch.jl:726 [inlined]",
      " [20] macro expansion",
      "    @ C:\\Users\\iai\\builds\\InterpretableAI\\SystemImage\\SysImgBuilder\\.julia\\packages\\IAIBase\\qNs6I\\src\\utils\\progress.jl:312 [inlined]",
      " [21] macro expansion",
      "    @ C:\\Users\\iai\\builds\\InterpretableAI\\SystemImage\\SysImgBuilder\\.julia\\packages\\IAIBase\\qNs6I\\src\\gridsearch.jl:696 [inlined]",
      " [22] macro expansion",
      "    @ C:\\Users\\iai\\builds\\InterpretableAI\\SystemImage\\SysImgBuilder\\.julia\\packages\\IAIBase\\qNs6I\\src\\utils\\progress.jl:312 [inlined]",
      " [23] _fit_inner!(grid::IAIBase.GridSearch{OptimalTrees.OptimalTreeRegressor, IAITrees.TreeGridResult, IAIBase.Data{IAIBase.RegressionTask, IAIBase.RegressionTarget}}; validation_criterion::Symbol, verbose::Bool, run_gc::Bool, is_resuming::Bool, kwargs::Base.Pairs{Symbol, Union{}, Tuple{}, NamedTuple{(), Tuple{}}})",
      "    @ IAIBase C:\\Users\\iai\\builds\\InterpretableAI\\SystemImage\\SysImgBuilder\\.julia\\packages\\IAIBase\\qNs6I\\src\\gridsearch.jl:692",
      " [24] _fit_inner!",
      "    @ C:\\Users\\iai\\builds\\InterpretableAI\\SystemImage\\SysImgBuilder\\.julia\\packages\\IAIBase\\qNs6I\\src\\gridsearch.jl:658 [inlined]",
      " [25] _fit!(grid::IAIBase.GridSearch{OptimalTrees.OptimalTreeRegressor, IAITrees.TreeGridResult, IAIBase.Data{IAIBase.RegressionTask, IAIBase.RegressionTarget}}; kwargs::Base.Pairs{Symbol, Union{}, Tuple{}, NamedTuple{(), Tuple{}}})",
      "    @ IAIBase C:\\Users\\iai\\builds\\InterpretableAI\\SystemImage\\SysImgBuilder\\.julia\\packages\\IAIBase\\qNs6I\\src\\gridsearch.jl:654",
      " [26] _fit!",
      "    @ C:\\Users\\iai\\builds\\InterpretableAI\\SystemImage\\SysImgBuilder\\.julia\\packages\\IAIBase\\qNs6I\\src\\gridsearch.jl:653 [inlined]",
      " [27] #236",
      "    @ C:\\Users\\iai\\builds\\InterpretableAI\\SystemImage\\SysImgBuilder\\.julia\\packages\\IAIBase\\qNs6I\\src\\gridsearch.jl:648 [inlined]",
      " [28] acquire_license(f::IAIBase.var\"#236#237\"{IAIBase.GridSearch{OptimalTrees.OptimalTreeRegressor, IAITrees.TreeGridResult, IAIBase.Data{IAIBase.RegressionTask, IAIBase.RegressionTarget}}}; parallel_processes::Vector{Int64})",
      "    @ IAILicensing C:\\Users\\iai\\builds\\InterpretableAI\\SystemImage\\SysImgBuilder\\.julia\\packages\\IAILicensing\\DIQRU\\src\\licensing.jl:266",
      " [29] acquire_license(f::Function, lnr::OptimalTrees.OptimalTreeRegressor)",
      "    @ IAIBase C:\\Users\\iai\\builds\\InterpretableAI\\SystemImage\\SysImgBuilder\\.julia\\packages\\IAIBase\\qNs6I\\src\\learner.jl:552",
      " [30] #acquire_license#210",
      "    @ C:\\Users\\iai\\builds\\InterpretableAI\\SystemImage\\SysImgBuilder\\.julia\\packages\\IAIBase\\qNs6I\\src\\gridsearch.jl:310 [inlined]",
      " [31] acquire_license",
      "    @ C:\\Users\\iai\\builds\\InterpretableAI\\SystemImage\\SysImgBuilder\\.julia\\packages\\IAIBase\\qNs6I\\src\\gridsearch.jl:308 [inlined]",
      " [32] _fit_common!(grid::IAIBase.GridSearch{OptimalTrees.OptimalTreeRegressor, IAITrees.TreeGridResult, IAIBase.Data{IAIBase.RegressionTask, IAIBase.RegressionTarget}}, data::IAIBase.Data{IAIBase.RegressionTask, IAIBase.RegressionTarget}; kwargs::Base.Pairs{Symbol, Union{}, Tuple{}, NamedTuple{(), Tuple{}}})",
      "    @ IAIBase C:\\Users\\iai\\builds\\InterpretableAI\\SystemImage\\SysImgBuilder\\.julia\\packages\\IAIBase\\qNs6I\\src\\gridsearch.jl:647",
      " [33] _fit_common!",
      "    @ C:\\Users\\iai\\builds\\InterpretableAI\\SystemImage\\SysImgBuilder\\.julia\\packages\\IAIBase\\qNs6I\\src\\gridsearch.jl:639 [inlined]",
      " [34] _fit!(grid::IAIBase.GridSearch{OptimalTrees.OptimalTreeRegressor, IAITrees.TreeGridResult, IAIBase.Data{IAIBase.RegressionTask, IAIBase.RegressionTarget}}, data::IAIBase.Data{IAIBase.RegressionTask, IAIBase.RegressionTarget}; train_proportion::Nothing, kwargs::Base.Pairs{Symbol, Union{}, Tuple{}, NamedTuple{(), Tuple{}}})",
      "    @ IAIBase C:\\Users\\iai\\builds\\InterpretableAI\\SystemImage\\SysImgBuilder\\.julia\\packages\\IAIBase\\qNs6I\\src\\gridsearch.jl:597",
      " [35] _fit!",
      "    @ C:\\Users\\iai\\builds\\InterpretableAI\\SystemImage\\SysImgBuilder\\.julia\\packages\\IAIBase\\qNs6I\\src\\gridsearch.jl:553 [inlined]",
      " [36] #fit!#303",
      "    @ C:\\Users\\iai\\builds\\InterpretableAI\\SystemImage\\SysImgBuilder\\.julia\\packages\\IAIBase\\qNs6I\\src\\api.jl:104 [inlined]",
      " [37] fit!(grid::IAIBase.GridSearch{OptimalTrees.OptimalTreeRegressor, IAITrees.TreeGridResult, IAIBase.Data{IAIBase.RegressionTask, IAIBase.RegressionTarget}}, X::DataFrame, y::Vector{Float64})",
      "    @ IAIBase C:\\Users\\iai\\builds\\InterpretableAI\\SystemImage\\SysImgBuilder\\.julia\\packages\\IAIBase\\qNs6I\\src\\api.jl:96",
      " [38] top-level scope",
      "    @ In[3]:8",
      " [39] eval",
      "    @ .\\boot.jl:368 [inlined]",
      " [40] include_string(mapexpr::typeof(REPL.softscope), mod::Module, code::String, filename::String)",
      "    @ Base .\\loading.jl:1428"
     ]
    }
   ],
   "source": [
    "# CART model with IAI\n",
    "grid = IAI.GridSearch(\n",
    "    IAI.OptimalTreeRegressor(\n",
    "        random_seed=123,\n",
    "    ),\n",
    "    max_depth=1:5,\n",
    ")\n",
    "IAI.fit!(grid, X_train, y_train)\n",
    "IAI.get_learner(grid)"
   ]
  },
  {
   "cell_type": "code",
   "execution_count": null,
   "metadata": {},
   "outputs": [],
   "source": [
    "IAI.predict(grid, test_X)"
   ]
  },
  {
   "cell_type": "code",
   "execution_count": null,
   "metadata": {},
   "outputs": [],
   "source": [
    "println(IAI.score(grid, X_train, y_train, criterion=:mse))\n",
    "println(IAI.score(grid, X_test, y_test, criterion=:mse))"
   ]
  }
 ],
 "metadata": {
  "kernelspec": {
   "display_name": "Julia (IAI) 1.8.0",
   "language": "julia",
   "name": "julia-(iai)-1.8"
  },
  "language_info": {
   "file_extension": ".jl",
   "mimetype": "application/julia",
   "name": "julia",
   "version": "1.8.2"
  },
  "vscode": {
   "interpreter": {
    "hash": "41a3af9e8a224a38c30b28ede46ccf9b389caf1bbeda9ceffb5dc9a9d4076ee6"
   }
  }
 },
 "nbformat": 4,
 "nbformat_minor": 2
}
