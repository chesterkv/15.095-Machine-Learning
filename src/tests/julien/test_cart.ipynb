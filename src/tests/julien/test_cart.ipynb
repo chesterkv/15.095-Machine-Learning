{
 "cells": [
  {
   "cell_type": "code",
   "execution_count": 1,
   "metadata": {},
   "outputs": [],
   "source": [
    "import sys\n",
    "from decimal import ROUND_HALF_UP, Decimal\n",
    "\n",
    "import numpy as np\n",
    "import pandas as pd\n",
    "from lightgbm import Booster, LGBMRegressor\n",
    "from tqdm import tqdm"
   ]
  },
  {
   "cell_type": "code",
   "execution_count": 2,
   "metadata": {},
   "outputs": [],
   "source": [
    "def reduce_memory_usage(df):\n",
    "  \n",
    "    start_mem = df.memory_usage().sum() / 1024**2\n",
    "    print('Memory usage of dataframe is {:.2f} MB'.format(start_mem))\n",
    "    \n",
    "    for col in df.columns:\n",
    "        col_type = df[col].dtype\n",
    "        \n",
    "        if col_type != object:\n",
    "            c_min = df[col].min()\n",
    "            c_max = df[col].max()\n",
    "            if str(col_type)[:3] == 'int':\n",
    "                if c_min > np.iinfo(np.int8).min and c_max < np.iinfo(np.int8).max:\n",
    "                    df[col] = df[col].astype(np.int8)\n",
    "                elif c_min > np.iinfo(np.int16).min and c_max < np.iinfo(np.int16).max:\n",
    "                    df[col] = df[col].astype(np.int16)\n",
    "                elif c_min > np.iinfo(np.int32).min and c_max < np.iinfo(np.int32).max:\n",
    "                    df[col] = df[col].astype(np.int32)\n",
    "                elif c_min > np.iinfo(np.int64).min and c_max < np.iinfo(np.int64).max:\n",
    "                    df[col] = df[col].astype(np.int64)  \n",
    "            else:\n",
    "                if c_min > np.finfo(np.float16).min and c_max < np.finfo(np.float16).max:\n",
    "                    df[col] = df[col].astype(np.float16)\n",
    "                elif c_min > np.finfo(np.float32).min and c_max < np.finfo(np.float32).max:\n",
    "                    df[col] = df[col].astype(np.float32)\n",
    "                else:\n",
    "                    df[col] = df[col].astype(np.float64)\n",
    "\n",
    "    end_mem = df.memory_usage().sum() / 1024**2\n",
    "    print('Memory usage after optimization is: {:.2f} MB'.format(end_mem))\n",
    "    print('Decreased by {:.1f}%'.format(100 * (start_mem - end_mem) / start_mem))\n",
    "    \n",
    "    return df"
   ]
  },
  {
   "cell_type": "code",
   "execution_count": 5,
   "metadata": {},
   "outputs": [],
   "source": [
    "def generate_adjusted_close(df):\n",
    "    \"\"\"\n",
    "    Args:\n",
    "        df (pd.DataFrame)  : stock_price for a single SecuritiesCode\n",
    "    Returns:\n",
    "        df (pd.DataFrame): stock_price with AdjustedClose for a single SecuritiesCode\n",
    "    \"\"\"\n",
    "    # sort data to generate CumulativeAdjustmentFactor\n",
    "    df = df.sort_values(\"Date\", ascending=False)\n",
    "    # generate CumulativeAdjustmentFactor by taking the cumulative product of AdjustmentFactor\n",
    "    df.loc[:, \"CumulativeAdjustmentFactor\"] = df[\"AdjustmentFactor\"].cumprod()\n",
    "    # generate AdjustedClose\n",
    "    df.loc[:, \"AdjustedClose\"] = (\n",
    "        df[\"CumulativeAdjustmentFactor\"] * df[\"Close\"]\n",
    "    ).map(lambda x: float(\n",
    "        Decimal(str(x)).quantize(Decimal('0.1'), rounding=ROUND_HALF_UP)\n",
    "    ))\n",
    "    # reverse order\n",
    "    df = df.sort_values(\"Date\")\n",
    "    # to fill AdjustedClose, replace 0 into np.nan\n",
    "    df.loc[df[\"AdjustedClose\"] == 0, \"AdjustedClose\"] = np.nan\n",
    "    # forward fill AdjustedClose\n",
    "    df.loc[:, \"AdjustedClose\"] = df.loc[:, \"AdjustedClose\"].ffill()\n",
    "    return df"
   ]
  },
  {
   "cell_type": "code",
   "execution_count": 6,
   "metadata": {},
   "outputs": [],
   "source": [
    "def adjust_price(price):\n",
    "    \"\"\"\n",
    "    Args:\n",
    "        price (pd.DataFrame)  : pd.DataFrame include stock_price\n",
    "    Returns:\n",
    "        price DataFrame (pd.DataFrame): stock_price with generated AdjustedClose\n",
    "    \"\"\"\n",
    "    # copy to edit\n",
    "    price = price.copy()\n",
    "    # transform Date column into datetime\n",
    "    price.loc[: ,\"Date\"] = pd.to_datetime(price.loc[: ,\"Date\"], format=\"%Y-%m-%d\")\n",
    "\n",
    "    # generate AdjustedClose\n",
    "    price = price.sort_values([\"SecuritiesCode\", \"Date\"])\n",
    "    price = price.groupby(\"SecuritiesCode\").apply(generate_adjusted_close).reset_index(drop=True)\n",
    "\n",
    "    price.set_index(\"Date\", inplace=True)\n",
    "    return price"
   ]
  },
  {
   "cell_type": "code",
   "execution_count": 7,
   "metadata": {},
   "outputs": [
    {
     "name": "stdout",
     "output_type": "stream",
     "text": [
      "Memory usage of dataframe is 197.98 MB\n",
      "Memory usage after optimization is: 102.33 MB\n",
      "Decreased by 48.3%\n",
      "Memory usage of dataframe is 22.91 MB\n",
      "Memory usage after optimization is: 11.84 MB\n",
      "Decreased by 48.3%\n"
     ]
    }
   ],
   "source": [
    "df_price = reduce_memory_usage(pd.read_csv(\"../../../data/train_files/stock_prices.csv\"))\n",
    "df_price_supplemental = reduce_memory_usage(pd.read_csv(\"../../../data/supplemental_files/stock_prices.csv\"))\n",
    "df_price = pd.concat([df_price, df_price_supplemental])\n",
    "df_price = adjust_price(df_price)"
   ]
  },
  {
   "cell_type": "code",
   "execution_count": 40,
   "metadata": {},
   "outputs": [
    {
     "name": "stdout",
     "output_type": "stream",
     "text": [
      "                    RowId  SecuritiesCode    Open    High     Low   Close  \\\n",
      "Date                                                                        \n",
      "2017-01-04  20170104_1301            1301  2734.0  2755.0  2730.0  2742.0   \n",
      "2017-01-05  20170105_1301            1301  2743.0  2747.0  2735.0  2738.0   \n",
      "2017-01-06  20170106_1301            1301  2734.0  2744.0  2720.0  2740.0   \n",
      "2017-01-10  20170110_1301            1301  2745.0  2754.0  2735.0  2748.0   \n",
      "2017-01-11  20170111_1301            1301  2748.0  2752.0  2737.0  2745.0   \n",
      "\n",
      "            Volume  AdjustmentFactor  ExpectedDividend  SupervisionFlag  \\\n",
      "Date                                                                      \n",
      "2017-01-04   31400               1.0               NaN              0.0   \n",
      "2017-01-05   17900               1.0               NaN              0.0   \n",
      "2017-01-06   19900               1.0               NaN              0.0   \n",
      "2017-01-10   24200               1.0               NaN              0.0   \n",
      "2017-01-11    9300               1.0               NaN              0.0   \n",
      "\n",
      "              Target  CumulativeAdjustmentFactor  AdjustedClose  \n",
      "Date                                                             \n",
      "2017-01-04  0.000731                         1.0         2742.0  \n",
      "2017-01-05  0.002920                         1.0         2738.0  \n",
      "2017-01-06 -0.001092                         1.0         2740.0  \n",
      "2017-01-10 -0.005100                         1.0         2748.0  \n",
      "2017-01-11 -0.003296                         1.0         2745.0  \n"
     ]
    }
   ],
   "source": [
    "print(df_price.head())"
   ]
  },
  {
   "cell_type": "code",
   "execution_count": 8,
   "metadata": {},
   "outputs": [],
   "source": [
    "def get_features_for_predict(price, code):\n",
    "    \"\"\"\n",
    "    Args:\n",
    "        price (pd.DataFrame)  : pd.DataFrame include stock_price\n",
    "        code (int)  : A local code for a listed company\n",
    "    Returns:\n",
    "        feature DataFrame (pd.DataFrame)\n",
    "    \"\"\"\n",
    "    close_col = \"AdjustedClose\"\n",
    "    feats = price.loc[price[\"SecuritiesCode\"] == code, [\"SecuritiesCode\", close_col]].copy()\n",
    "\n",
    "    feats[\"close_diff1\"] = feats[close_col].diff(1)\n",
    "\n",
    "    # filling data for nan and inf\n",
    "    feats = feats.fillna(0)\n",
    "    feats = feats.replace([np.inf, -np.inf], 0)\n",
    "    # drop AdjustedClose column\n",
    "    feats = feats.drop([close_col], axis=1)\n",
    "\n",
    "    return feats"
   ]
  },
  {
   "cell_type": "code",
   "execution_count": 9,
   "metadata": {},
   "outputs": [
    {
     "name": "stderr",
     "output_type": "stream",
     "text": [
      "100%|██████████| 2000/2000 [00:29<00:00, 67.36it/s]\n"
     ]
    }
   ],
   "source": [
    "# fetch prediction target SecuritiesCodes\n",
    "codes = sorted(df_price[\"SecuritiesCode\"].unique())\n",
    "\n",
    "# generate feature\n",
    "buff = []\n",
    "for code in tqdm(codes):\n",
    "    feat = get_features_for_predict(df_price, code)\n",
    "    buff.append(feat)\n",
    "feature = pd.concat(buff)\n"
   ]
  },
  {
   "cell_type": "code",
   "execution_count": 10,
   "metadata": {},
   "outputs": [],
   "source": [
    "def get_label(price, code):\n",
    "    \"\"\" Labelizer\n",
    "    Args:\n",
    "        price (pd.DataFrame): dataframe of stock_price.csv\n",
    "        code (int): Local Code in the universe\n",
    "    Returns:\n",
    "        df (pd.DataFrame): label data\n",
    "    \"\"\"\n",
    "    df = price.loc[price[\"SecuritiesCode\"] == code].copy()\n",
    "    df.loc[:, \"label\"] = df[\"Target\"]\n",
    "\n",
    "    return df.loc[:, [\"SecuritiesCode\", \"label\"]]"
   ]
  },
  {
   "cell_type": "code",
   "execution_count": 11,
   "metadata": {},
   "outputs": [],
   "source": [
    "TRAIN_END = \"2019-12-31\"\n",
    "# We put a week gap between TRAIN_END and TEST_START\n",
    "# to avoid leakage of test data information from label\n",
    "TEST_START = \"2020-01-06\"\n",
    "\n",
    "def get_features_and_label(price, codes, features):\n",
    "    \"\"\"\n",
    "    Args:\n",
    "        price (pd.DataFrame): loaded price data\n",
    "        codes  (array) : target codes\n",
    "        feature (pd.DataFrame): features\n",
    "    Returns:\n",
    "        train_X (pd.DataFrame): training data\n",
    "        train_y (pd.DataFrame): label for train_X\n",
    "        test_X (pd.DataFrame): test data\n",
    "        test_y (pd.DataFrame): label for test_X\n",
    "    \"\"\"\n",
    "    # to store splited data\n",
    "    trains_X, tests_X = [], []\n",
    "    trains_y, tests_y = [], []\n",
    "\n",
    "       # generate feature one by one\n",
    "    for code in tqdm(codes):\n",
    "\n",
    "        feats = features[features[\"SecuritiesCode\"] == code].dropna()\n",
    "        labels = get_label(price, code).dropna()\n",
    "\n",
    "        if feats.shape[0] > 0 and labels.shape[0] > 0:\n",
    "            # align label and feature indexes\n",
    "            labels = labels.loc[labels.index.isin(feats.index)]\n",
    "            feats = feats.loc[feats.index.isin(labels.index)]\n",
    "\n",
    "            assert (labels.loc[:, \"SecuritiesCode\"] == feats.loc[:, \"SecuritiesCode\"]).all()\n",
    "            labels = labels.loc[:, \"label\"]\n",
    "            # split data into TRAIN and TEST\n",
    "            _train_X = feats[: TRAIN_END]\n",
    "            _test_X = feats[TEST_START:]\n",
    "\n",
    "            _train_y = labels[: TRAIN_END]\n",
    "            _test_y = labels[TEST_START:]\n",
    "            \n",
    "            assert len(_train_X) == len(_train_y)\n",
    "            assert len(_test_X) == len(_test_y)\n",
    "           # store features\n",
    "            trains_X.append(_train_X)\n",
    "            tests_X.append(_test_X)\n",
    "            # store labels\n",
    "            trains_y.append(_train_y)\n",
    "            tests_y.append(_test_y)\n",
    "            \n",
    "    # combine features for each codes\n",
    "    train_X = pd.concat(trains_X)\n",
    "    test_X = pd.concat(tests_X)\n",
    "    # combine label for each codes\n",
    "    train_y = pd.concat(trains_y)\n",
    "    test_y = pd.concat(tests_y)\n",
    "\n",
    "    return train_X, train_y, test_X, test_y"
   ]
  },
  {
   "cell_type": "code",
   "execution_count": 12,
   "metadata": {},
   "outputs": [
    {
     "name": "stderr",
     "output_type": "stream",
     "text": [
      "100%|██████████| 2000/2000 [00:58<00:00, 34.06it/s]\n"
     ]
    }
   ],
   "source": [
    "# generate feature/label\n",
    "train_X, train_y, test_X, test_y = get_features_and_label(\n",
    "    df_price, codes, feature)"
   ]
  },
  {
   "cell_type": "code",
   "execution_count": 13,
   "metadata": {},
   "outputs": [
    {
     "name": "stdout",
     "output_type": "stream",
     "text": [
      "            SecuritiesCode  close_diff1\n",
      "Date                                   \n",
      "2017-01-04            1301          0.0\n",
      "2017-01-05            1301         -4.0\n",
      "2017-01-06            1301          2.0\n",
      "2017-01-10            1301          8.0\n",
      "2017-01-11            1301         -3.0\n"
     ]
    }
   ],
   "source": [
    "print(train_X.head())"
   ]
  },
  {
   "cell_type": "code",
   "execution_count": 19,
   "metadata": {},
   "outputs": [
    {
     "name": "stderr",
     "output_type": "stream",
     "text": [
      "c:\\Anaconda\\envs\\OR_env\\lib\\site-packages\\sklearn\\base.py:443: UserWarning: X has feature names, but DecisionTreeRegressor was fitted without feature names\n",
      "  warnings.warn(\n"
     ]
    },
    {
     "name": "stdout",
     "output_type": "stream",
     "text": [
      "            SecuritiesCode   predict    Target\n",
      "Date                                          \n",
      "2020-01-06            1301  0.000655  0.001725\n",
      "2020-01-07            1301  0.000265  0.010338\n",
      "2020-01-08            1301  0.000611 -0.000341\n",
      "2020-01-09            1301  0.000093 -0.006481\n",
      "2020-01-10            1301  0.000565  0.007553\n"
     ]
    }
   ],
   "source": [
    "from sklearn import tree\n",
    "feat_cols= [\"close_diff1\"]\n",
    "model = tree.DecisionTreeRegressor(criterion=\"squared_error\", min_samples_leaf=2)\n",
    "model = model.fit(train_X[feat_cols].values, train_y)\n",
    "result = test_X[[\"SecuritiesCode\"]].copy()\n",
    "result.loc[:, \"predict\"] =  model.predict(test_X[feat_cols])\n",
    "result.loc[:, \"Target\"] = test_y.values\n",
    "print(result.head())"
   ]
  },
  {
   "cell_type": "code",
   "execution_count": 25,
   "metadata": {},
   "outputs": [
    {
     "name": "stdout",
     "output_type": "stream",
     "text": [
      "            SecuritiesCode   predict    Target\n",
      "Date                                          \n",
      "2020-01-06            1301  0.000655  0.001725\n",
      "2020-01-07            1301  0.000265  0.010338\n",
      "2020-01-08            1301  0.000611 -0.000341\n",
      "2020-01-09            1301  0.000093 -0.006481\n",
      "2020-01-10            1301  0.000565  0.007553\n",
      "...                    ...       ...       ...\n",
      "2022-06-20            1301  0.000269  0.020798\n",
      "2022-06-21            1301 -0.000345  0.004368\n",
      "2022-06-22            1301 -0.000382 -0.015945\n",
      "2022-06-23            1301  0.000431  0.004417\n",
      "2022-06-24            1301  0.000423  0.001467\n",
      "\n",
      "[604 rows x 3 columns]\n"
     ]
    }
   ],
   "source": [
    "print(result[result[\"SecuritiesCode\"] == 1301])"
   ]
  },
  {
   "cell_type": "code",
   "execution_count": 23,
   "metadata": {},
   "outputs": [],
   "source": [
    "def compute_mse(pred_df, source_df):\n",
    "    return np.mean((pred_df - source_df)**2)"
   ]
  },
  {
   "cell_type": "code",
   "execution_count": 24,
   "metadata": {},
   "outputs": [
    {
     "name": "stdout",
     "output_type": "stream",
     "text": [
      "0.0006480348707894022\n"
     ]
    }
   ],
   "source": [
    "print(compute_mse(result[\"predict\"], result[\"Target\"]))"
   ]
  },
  {
   "cell_type": "code",
   "execution_count": 45,
   "metadata": {},
   "outputs": [],
   "source": [
    "import matplotlib.pyplot as plt\n",
    "def plot_results(pred_df, source_df):\n",
    "    \"\"\"\n",
    "    Helper function used for displaying the predictions vs. actuals for the indicated columns\n",
    "    \"\"\"\n",
    "    fig, ax = plt.subplots()\n",
    "    pred_df.plot(ax=ax, label=\"Predicted\")\n",
    "    source_df.plot(ax=ax, label=\"Observed\")\n",
    "        \n",
    "    ax.legend()\n",
    "    ax.set_title(\"Predicted vs. Observed\")\n",
    "    ax.set_xlabel(\"Date\")\n",
    "    ax.set_ylabel(\"Return\");"
   ]
  },
  {
   "cell_type": "code",
   "execution_count": 46,
   "metadata": {},
   "outputs": [
    {
     "data": {
      "image/png": "[encoded data removed]",
      "text/plain": [
       "<Figure size 640x480 with 1 Axes>"
      ]
     },
     "metadata": {},
     "output_type": "display_data"
    }
   ],
   "source": [
    "#plot result for month april 2022\n",
    "plot_results()\n",
    "plot_results(result[(result[\"SecuritiesCode\"] == 1301) && ()][\"predict\"], result[result[\"SecuritiesCode\"] == 1301][\"Target\"])"
   ]
  },
  {
   "cell_type": "code",
   "execution_count": 47,
   "metadata": {},
   "outputs": [],
   "source": [
    "lgbm_params = {\n",
    "    'seed': 42,\n",
    "    'n_jobs': -1,\n",
    "}\n",
    "\n",
    "feat_cols = [\n",
    "    \"close_diff1\",\n",
    "]"
   ]
  },
  {
   "cell_type": "code",
   "execution_count": 48,
   "metadata": {},
   "outputs": [
    {
     "name": "stdout",
     "output_type": "stream",
     "text": [
      "0.000645370840390431\n"
     ]
    }
   ],
   "source": [
    "pred_model = LGBMRegressor(**lgbm_params)\n",
    "pred_model.fit(train_X[feat_cols].values, train_y)\n",
    "# prepare result data\n",
    "result = test_X[[\"SecuritiesCode\"]].copy()\n",
    "# predict\n",
    "result.loc[:, \"predict\"] = pred_model.predict(test_X[feat_cols])\n",
    "# actual result\n",
    "result.loc[:, \"Target\"] = test_y.values\n",
    "print(compute_mse(result[\"predict\"], result[\"Target\"]))"
   ]
  },
  {
   "cell_type": "code",
   "execution_count": 49,
   "metadata": {},
   "outputs": [
    {
     "name": "stdout",
     "output_type": "stream",
     "text": [
      "            SecuritiesCode  close_diff1\n",
      "Date                                   \n",
      "2020-01-06            1301        -13.0\n",
      "2020-01-07            1301         36.0\n",
      "2020-01-08            1301          5.0\n",
      "2020-01-09            1301         30.0\n",
      "2020-01-10            1301         -1.0\n",
      "...                    ...          ...\n",
      "2022-06-20            9997         -6.0\n",
      "2022-06-21            9997         19.0\n",
      "2022-06-22            9997          1.0\n",
      "2022-06-23            9997          0.0\n",
      "2022-06-24            9997         12.0\n",
      "\n",
      "[1202713 rows x 2 columns]\n"
     ]
    }
   ],
   "source": [
    "print(test_X)"
   ]
  },
  {
   "cell_type": "code",
   "execution_count": 50,
   "metadata": {},
   "outputs": [
    {
     "name": "stdout",
     "output_type": "stream",
     "text": [
      "Date\n",
      "2020-01-06    0.001725\n",
      "2020-01-07    0.010338\n",
      "2020-01-08   -0.000341\n",
      "2020-01-09   -0.006481\n",
      "2020-01-10    0.007553\n",
      "                ...   \n",
      "2022-06-20    0.001416\n",
      "2022-06-21    0.000000\n",
      "2022-06-22    0.016968\n",
      "2022-06-23    0.013908\n",
      "2022-06-24    0.015091\n",
      "Name: label, Length: 1202713, dtype: float16\n"
     ]
    }
   ],
   "source": [
    "print(test_y)"
   ]
  },
  {
   "cell_type": "code",
   "execution_count": 51,
   "metadata": {},
   "outputs": [],
   "source": [
    "#baseline\n",
    "def moving_3month_pred(series, n_preds):\n",
    "    data = list(series)\n",
    "    for i in range(n_preds):\n",
    "        y0 = np.mean(data[-3:])\n",
    "        data.append(y0)\n",
    "    return data[-n_preds:]"
   ]
  },
  {
   "cell_type": "code",
   "execution_count": 52,
   "metadata": {},
   "outputs": [],
   "source": [
    "#for each security make baseline prediction from 2020-01-06 to 2022-06-24\n",
    "\n",
    "def get_baseline_prediction(df_price, codes):\n",
    "    \"\"\"\n",
    "    Args:\n",
    "        df_price (pd.DataFrame): loaded price data\n",
    "        codes  (array) : target codes\n",
    "    Returns:\n",
    "        result (pd.DataFrame): baseline prediction\n",
    "    \"\"\"\n",
    "    result_final = pd.DataFrame()\n",
    "    result = []\n",
    "    for code in tqdm(codes):\n",
    "        df = df_price.loc[df_price[\"SecuritiesCode\"] == code].copy()\n",
    "        new_results = moving_3month_pred(df[\"close_diff1\"], 604)\n",
    "        #let's add new_result to result\n",
    "        result = result + new_results\n",
    "    result_final.loc[:, \"predict\"] = result\n",
    "    result_final.loc[:, \"Target\"] = test_y.values\n",
    "    return result"
   ]
  },
  {
   "cell_type": "code",
   "execution_count": 53,
   "metadata": {},
   "outputs": [
    {
     "data": {
      "text/plain": [
       "(1202713,)"
      ]
     },
     "execution_count": 53,
     "metadata": {},
     "output_type": "execute_result"
    }
   ],
   "source": [
    "test_y.shape"
   ]
  },
  {
   "cell_type": "code",
   "execution_count": 54,
   "metadata": {},
   "outputs": [
    {
     "name": "stdout",
     "output_type": "stream",
     "text": [
      "2000\n"
     ]
    }
   ],
   "source": [
    "codes = sorted(df_price[\"SecuritiesCode\"].unique())\n",
    "print(len(codes))"
   ]
  },
  {
   "cell_type": "code",
   "execution_count": 55,
   "metadata": {},
   "outputs": [
    {
     "name": "stdout",
     "output_type": "stream",
     "text": [
      "2000\n"
     ]
    },
    {
     "name": "stderr",
     "output_type": "stream",
     "text": [
      "  0%|          | 0/2000 [00:00<?, ?it/s]c:\\Anaconda\\envs\\OR_env\\lib\\site-packages\\numpy\\core\\fromnumeric.py:3432: RuntimeWarning: Mean of empty slice.\n",
      "  return _methods._mean(a, axis=axis, dtype=dtype,\n",
      "c:\\Anaconda\\envs\\OR_env\\lib\\site-packages\\numpy\\core\\_methods.py:190: RuntimeWarning: invalid value encountered in double_scalars\n",
      "  ret = ret.dtype.type(ret / rcount)\n",
      "100%|██████████| 2000/2000 [01:23<00:00, 23.84it/s]\n"
     ]
    },
    {
     "ename": "ValueError",
     "evalue": "Length of values (1202713) does not match length of index (1208000)",
     "output_type": "error",
     "traceback": [
      "\u001b[1;31m---------------------------------------------------------------------------\u001b[0m",
      "\u001b[1;31mValueError\u001b[0m                                Traceback (most recent call last)",
      "\u001b[1;32mc:\\Users\\Julien Pinède\\Documents\\MIT\\Courses\\Machine Learning Under Modern Optimization Lenses\\project\\code\\test_cart.ipynb Cellule 27\u001b[0m in \u001b[0;36m<cell line: 3>\u001b[1;34m()\u001b[0m\n\u001b[0;32m      <a href='vscode-notebook-cell:/c%3A/Users/Julien%20Pin%C3%A8de/Documents/MIT/Courses/Machine%20Learning%20Under%20Modern%20Optimization%20Lenses/project/code/test_cart.ipynb#X25sZmlsZQ%3D%3D?line=0'>1</a>\u001b[0m codes \u001b[39m=\u001b[39m \u001b[39msorted\u001b[39m(df_price[\u001b[39m\"\u001b[39m\u001b[39mSecuritiesCode\u001b[39m\u001b[39m\"\u001b[39m]\u001b[39m.\u001b[39munique())\n\u001b[0;32m      <a href='vscode-notebook-cell:/c%3A/Users/Julien%20Pin%C3%A8de/Documents/MIT/Courses/Machine%20Learning%20Under%20Modern%20Optimization%20Lenses/project/code/test_cart.ipynb#X25sZmlsZQ%3D%3D?line=1'>2</a>\u001b[0m \u001b[39mprint\u001b[39m(\u001b[39mlen\u001b[39m(codes))\n\u001b[1;32m----> <a href='vscode-notebook-cell:/c%3A/Users/Julien%20Pin%C3%A8de/Documents/MIT/Courses/Machine%20Learning%20Under%20Modern%20Optimization%20Lenses/project/code/test_cart.ipynb#X25sZmlsZQ%3D%3D?line=2'>3</a>\u001b[0m result \u001b[39m=\u001b[39m get_baseline_prediction(train_X, codes)\n",
      "\u001b[1;32mc:\\Users\\Julien Pinède\\Documents\\MIT\\Courses\\Machine Learning Under Modern Optimization Lenses\\project\\code\\test_cart.ipynb Cellule 27\u001b[0m in \u001b[0;36mget_baseline_prediction\u001b[1;34m(df_price, codes)\u001b[0m\n\u001b[0;32m     <a href='vscode-notebook-cell:/c%3A/Users/Julien%20Pin%C3%A8de/Documents/MIT/Courses/Machine%20Learning%20Under%20Modern%20Optimization%20Lenses/project/code/test_cart.ipynb#X25sZmlsZQ%3D%3D?line=16'>17</a>\u001b[0m     result \u001b[39m=\u001b[39m result \u001b[39m+\u001b[39m new_results\n\u001b[0;32m     <a href='vscode-notebook-cell:/c%3A/Users/Julien%20Pin%C3%A8de/Documents/MIT/Courses/Machine%20Learning%20Under%20Modern%20Optimization%20Lenses/project/code/test_cart.ipynb#X25sZmlsZQ%3D%3D?line=17'>18</a>\u001b[0m result_final\u001b[39m.\u001b[39mloc[:, \u001b[39m\"\u001b[39m\u001b[39mpredict\u001b[39m\u001b[39m\"\u001b[39m] \u001b[39m=\u001b[39m result\n\u001b[1;32m---> <a href='vscode-notebook-cell:/c%3A/Users/Julien%20Pin%C3%A8de/Documents/MIT/Courses/Machine%20Learning%20Under%20Modern%20Optimization%20Lenses/project/code/test_cart.ipynb#X25sZmlsZQ%3D%3D?line=18'>19</a>\u001b[0m result_final\u001b[39m.\u001b[39mloc[:, \u001b[39m\"\u001b[39m\u001b[39mTarget\u001b[39m\u001b[39m\"\u001b[39m] \u001b[39m=\u001b[39m test_y\u001b[39m.\u001b[39mvalues\n\u001b[0;32m     <a href='vscode-notebook-cell:/c%3A/Users/Julien%20Pin%C3%A8de/Documents/MIT/Courses/Machine%20Learning%20Under%20Modern%20Optimization%20Lenses/project/code/test_cart.ipynb#X25sZmlsZQ%3D%3D?line=19'>20</a>\u001b[0m \u001b[39mreturn\u001b[39;00m result\n",
      "File \u001b[1;32mc:\\Anaconda\\envs\\OR_env\\lib\\site-packages\\pandas\\core\\indexing.py:716\u001b[0m, in \u001b[0;36m_LocationIndexer.__setitem__\u001b[1;34m(self, key, value)\u001b[0m\n\u001b[0;32m    713\u001b[0m \u001b[39mself\u001b[39m\u001b[39m.\u001b[39m_has_valid_setitem_indexer(key)\n\u001b[0;32m    715\u001b[0m iloc \u001b[39m=\u001b[39m \u001b[39mself\u001b[39m \u001b[39mif\u001b[39;00m \u001b[39mself\u001b[39m\u001b[39m.\u001b[39mname \u001b[39m==\u001b[39m \u001b[39m\"\u001b[39m\u001b[39miloc\u001b[39m\u001b[39m\"\u001b[39m \u001b[39melse\u001b[39;00m \u001b[39mself\u001b[39m\u001b[39m.\u001b[39mobj\u001b[39m.\u001b[39miloc\n\u001b[1;32m--> 716\u001b[0m iloc\u001b[39m.\u001b[39;49m_setitem_with_indexer(indexer, value, \u001b[39mself\u001b[39;49m\u001b[39m.\u001b[39;49mname)\n",
      "File \u001b[1;32mc:\\Anaconda\\envs\\OR_env\\lib\\site-packages\\pandas\\core\\indexing.py:1628\u001b[0m, in \u001b[0;36m_iLocIndexer._setitem_with_indexer\u001b[1;34m(self, indexer, value, name)\u001b[0m\n\u001b[0;32m   1625\u001b[0m \u001b[39m# add a new item with the dtype setup\u001b[39;00m\n\u001b[0;32m   1626\u001b[0m \u001b[39mif\u001b[39;00m com\u001b[39m.\u001b[39mis_null_slice(indexer[\u001b[39m0\u001b[39m]):\n\u001b[0;32m   1627\u001b[0m     \u001b[39m# We are setting an entire column\u001b[39;00m\n\u001b[1;32m-> 1628\u001b[0m     \u001b[39mself\u001b[39m\u001b[39m.\u001b[39mobj[key] \u001b[39m=\u001b[39m value\n\u001b[0;32m   1629\u001b[0m     \u001b[39mreturn\u001b[39;00m\n\u001b[0;32m   1630\u001b[0m \u001b[39melif\u001b[39;00m is_array_like(value):\n\u001b[0;32m   1631\u001b[0m     \u001b[39m# GH#42099\u001b[39;00m\n",
      "File \u001b[1;32mc:\\Anaconda\\envs\\OR_env\\lib\\site-packages\\pandas\\core\\frame.py:3655\u001b[0m, in \u001b[0;36mDataFrame.__setitem__\u001b[1;34m(self, key, value)\u001b[0m\n\u001b[0;32m   3652\u001b[0m     \u001b[39mself\u001b[39m\u001b[39m.\u001b[39m_setitem_array([key], value)\n\u001b[0;32m   3653\u001b[0m \u001b[39melse\u001b[39;00m:\n\u001b[0;32m   3654\u001b[0m     \u001b[39m# set column\u001b[39;00m\n\u001b[1;32m-> 3655\u001b[0m     \u001b[39mself\u001b[39;49m\u001b[39m.\u001b[39;49m_set_item(key, value)\n",
      "File \u001b[1;32mc:\\Anaconda\\envs\\OR_env\\lib\\site-packages\\pandas\\core\\frame.py:3832\u001b[0m, in \u001b[0;36mDataFrame._set_item\u001b[1;34m(self, key, value)\u001b[0m\n\u001b[0;32m   3822\u001b[0m \u001b[39mdef\u001b[39;00m \u001b[39m_set_item\u001b[39m(\u001b[39mself\u001b[39m, key, value) \u001b[39m-\u001b[39m\u001b[39m>\u001b[39m \u001b[39mNone\u001b[39;00m:\n\u001b[0;32m   3823\u001b[0m     \u001b[39m\"\"\"\u001b[39;00m\n\u001b[0;32m   3824\u001b[0m \u001b[39m    Add series to DataFrame in specified column.\u001b[39;00m\n\u001b[0;32m   3825\u001b[0m \n\u001b[1;32m   (...)\u001b[0m\n\u001b[0;32m   3830\u001b[0m \u001b[39m    ensure homogeneity.\u001b[39;00m\n\u001b[0;32m   3831\u001b[0m \u001b[39m    \"\"\"\u001b[39;00m\n\u001b[1;32m-> 3832\u001b[0m     value \u001b[39m=\u001b[39m \u001b[39mself\u001b[39;49m\u001b[39m.\u001b[39;49m_sanitize_column(value)\n\u001b[0;32m   3834\u001b[0m     \u001b[39mif\u001b[39;00m (\n\u001b[0;32m   3835\u001b[0m         key \u001b[39min\u001b[39;00m \u001b[39mself\u001b[39m\u001b[39m.\u001b[39mcolumns\n\u001b[0;32m   3836\u001b[0m         \u001b[39mand\u001b[39;00m value\u001b[39m.\u001b[39mndim \u001b[39m==\u001b[39m \u001b[39m1\u001b[39m\n\u001b[0;32m   3837\u001b[0m         \u001b[39mand\u001b[39;00m \u001b[39mnot\u001b[39;00m is_extension_array_dtype(value)\n\u001b[0;32m   3838\u001b[0m     ):\n\u001b[0;32m   3839\u001b[0m         \u001b[39m# broadcast across multiple columns if necessary\u001b[39;00m\n\u001b[0;32m   3840\u001b[0m         \u001b[39mif\u001b[39;00m \u001b[39mnot\u001b[39;00m \u001b[39mself\u001b[39m\u001b[39m.\u001b[39mcolumns\u001b[39m.\u001b[39mis_unique \u001b[39mor\u001b[39;00m \u001b[39misinstance\u001b[39m(\u001b[39mself\u001b[39m\u001b[39m.\u001b[39mcolumns, MultiIndex):\n",
      "File \u001b[1;32mc:\\Anaconda\\envs\\OR_env\\lib\\site-packages\\pandas\\core\\frame.py:4538\u001b[0m, in \u001b[0;36mDataFrame._sanitize_column\u001b[1;34m(self, value)\u001b[0m\n\u001b[0;32m   4535\u001b[0m     \u001b[39mreturn\u001b[39;00m _reindex_for_setitem(value, \u001b[39mself\u001b[39m\u001b[39m.\u001b[39mindex)\n\u001b[0;32m   4537\u001b[0m \u001b[39mif\u001b[39;00m is_list_like(value):\n\u001b[1;32m-> 4538\u001b[0m     com\u001b[39m.\u001b[39;49mrequire_length_match(value, \u001b[39mself\u001b[39;49m\u001b[39m.\u001b[39;49mindex)\n\u001b[0;32m   4539\u001b[0m \u001b[39mreturn\u001b[39;00m sanitize_array(value, \u001b[39mself\u001b[39m\u001b[39m.\u001b[39mindex, copy\u001b[39m=\u001b[39m\u001b[39mTrue\u001b[39;00m, allow_2d\u001b[39m=\u001b[39m\u001b[39mTrue\u001b[39;00m)\n",
      "File \u001b[1;32mc:\\Anaconda\\envs\\OR_env\\lib\\site-packages\\pandas\\core\\common.py:557\u001b[0m, in \u001b[0;36mrequire_length_match\u001b[1;34m(data, index)\u001b[0m\n\u001b[0;32m    553\u001b[0m \u001b[39m\"\"\"\u001b[39;00m\n\u001b[0;32m    554\u001b[0m \u001b[39mCheck the length of data matches the length of the index.\u001b[39;00m\n\u001b[0;32m    555\u001b[0m \u001b[39m\"\"\"\u001b[39;00m\n\u001b[0;32m    556\u001b[0m \u001b[39mif\u001b[39;00m \u001b[39mlen\u001b[39m(data) \u001b[39m!=\u001b[39m \u001b[39mlen\u001b[39m(index):\n\u001b[1;32m--> 557\u001b[0m     \u001b[39mraise\u001b[39;00m \u001b[39mValueError\u001b[39;00m(\n\u001b[0;32m    558\u001b[0m         \u001b[39m\"\u001b[39m\u001b[39mLength of values \u001b[39m\u001b[39m\"\u001b[39m\n\u001b[0;32m    559\u001b[0m         \u001b[39mf\u001b[39m\u001b[39m\"\u001b[39m\u001b[39m(\u001b[39m\u001b[39m{\u001b[39;00m\u001b[39mlen\u001b[39m(data)\u001b[39m}\u001b[39;00m\u001b[39m) \u001b[39m\u001b[39m\"\u001b[39m\n\u001b[0;32m    560\u001b[0m         \u001b[39m\"\u001b[39m\u001b[39mdoes not match length of index \u001b[39m\u001b[39m\"\u001b[39m\n\u001b[0;32m    561\u001b[0m         \u001b[39mf\u001b[39m\u001b[39m\"\u001b[39m\u001b[39m(\u001b[39m\u001b[39m{\u001b[39;00m\u001b[39mlen\u001b[39m(index)\u001b[39m}\u001b[39;00m\u001b[39m)\u001b[39m\u001b[39m\"\u001b[39m\n\u001b[0;32m    562\u001b[0m     )\n",
      "\u001b[1;31mValueError\u001b[0m: Length of values (1202713) does not match length of index (1208000)"
     ]
    }
   ],
   "source": [
    "codes = sorted(df_price[\"SecuritiesCode\"].unique())\n",
    "print(len(codes))\n",
    "result = get_baseline_prediction(train_X, codes)\n"
   ]
  },
  {
   "cell_type": "code",
   "execution_count": null,
   "metadata": {},
   "outputs": [],
   "source": [
    "#Let's build a new dataset from df_price with as features the value of close_diff1 at d-1 to d-7, m-1 to m-3, y-1 to y-3\n",
    "\n",
    "def build_new_df(df_price, d=[1, 2, 3, 4, 5, 6 7], m=[1, 2, 4], y=[1, 2 3]):\n",
    "    \"\"\"\n",
    "    Args:\n",
    "        df_price (pd.DataFrame): loaded price data\n",
    "        d  (array) : days\n",
    "        m  (array) : months\n",
    "        y  (array) : years\n",
    "    Returns:\n",
    "        df_new (pd.DataFrame): new dataframe\n",
    "    \"\"\"\n",
    "    df_new = pd.DataFrame()\n",
    "    for code in tqdm(codes):\n",
    "        df = df_price.loc[df_price[\"SecuritiesCode\"] == code].copy()\n",
    "        for day in d:\n",
    "            df.loc[:, \"close_diff1_d{}\".format(day)] = df[\"close_diff1\"].shift(day)\n",
    "        for month in m:\n",
    "            df.loc[:, \"close_diff1_m{}\".format(month)] = df[\"close_diff1\"].shift(month*30)\n",
    "        for year in y:\n",
    "            df.loc[:, \"close_diff1_y{}\".format(year)] = df[\"close_diff1\"].shift(year*365)\n",
    "    "
   ]
  }
 ],
 "metadata": {
  "kernelspec": {
   "display_name": "Python 3.8.13 ('OR_env')",
   "language": "python",
   "name": "python3"
  },
  "language_info": {
   "codemirror_mode": {
    "name": "ipython",
    "version": 3
   },
   "file_extension": ".py",
   "mimetype": "text/x-python",
   "name": "python",
   "nbconvert_exporter": "python",
   "pygments_lexer": "ipython3",
   "version": "3.8.13"
  },
  "orig_nbformat": 4,
  "vscode": {
   "interpreter": {
    "hash": "f1976cb1e7b5e6cb0fb6c6121e2125643fa054d3ec707007008fc4887e664439"
   }
  }
 },
 "nbformat": 4,
 "nbformat_minor": 2
}
