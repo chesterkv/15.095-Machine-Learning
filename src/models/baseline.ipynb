{
 "cells": [],
 "metadata": {
  "kernelspec": {
   "display_name": "Python 3.9.12 ('base')",
   "language": "python",
   "name": "python3"
  },
  "language_info": {
   "codemirror_mode": {
    "name": "ipython",
    "version": 3
   },
   "file_extension": ".py",
   "mimetype": "text/x-python",
   "name": "python",
   "nbconvert_exporter": "python",
   "pygments_lexer": "ipython3",
   "version": "3.9.12"
  },
  "orig_nbformat": 4,
  "vscode": {
   "interpreter": {
    "hash": "41a3af9e8a224a38c30b28ede46ccf9b389caf1bbeda9ceffb5dc9a9d4076ee6"
   }
  }
 },
 "nbformat": 4,
 "nbformat_minor": 2
}
