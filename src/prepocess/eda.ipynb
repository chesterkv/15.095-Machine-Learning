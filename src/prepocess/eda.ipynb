{
 "cells": [
  {
   "cell_type": "code",
   "execution_count": null,
   "metadata": {},
   "outputs": [],
   "source": [
    "import pandas as pd\n",
    "import numpy as np"
   ]
  },
  {
   "cell_type": "code",
   "execution_count": 1,
   "metadata": {},
   "outputs": [
    {
     "ename": "NameError",
     "evalue": "name 'pd' is not defined",
     "output_type": "error",
     "traceback": [
      "\u001b[1;31m---------------------------------------------------------------------------\u001b[0m",
      "\u001b[1;31mNameError\u001b[0m                                 Traceback (most recent call last)",
      "\u001b[1;32mc:\\Users\\vasch\\Dropbox (MIT)\\15.095-Machine-Learning\\src\\prepocess\\eda.ipynb Cellule 2\u001b[0m in \u001b[0;36m<cell line: 1>\u001b[1;34m()\u001b[0m\n\u001b[1;32m----> <a href='vscode-notebook-cell:/c%3A/Users/vasch/Dropbox%20%28MIT%29/15.095-Machine-Learning/src/prepocess/eda.ipynb#W1sZmlsZQ%3D%3D?line=0'>1</a>\u001b[0m stock_list \u001b[39m=\u001b[39m pd\u001b[39m.\u001b[39mread_csv(\u001b[39m'\u001b[39m\u001b[39m../../data/stock_list.csv\u001b[39m\u001b[39m'\u001b[39m)\n\u001b[0;32m      <a href='vscode-notebook-cell:/c%3A/Users/vasch/Dropbox%20%28MIT%29/15.095-Machine-Learning/src/prepocess/eda.ipynb#W1sZmlsZQ%3D%3D?line=1'>2</a>\u001b[0m stock_list\u001b[39m.\u001b[39mhead()\n",
      "\u001b[1;31mNameError\u001b[0m: name 'pd' is not defined"
     ]
    }
   ],
   "source": [
    "stock_list = pd.read_csv('../../data/stock_list.csv')\n",
    "stock_list.head()"
   ]
  }
 ],
 "metadata": {
  "kernelspec": {
   "display_name": "Python 3.9.12 ('base')",
   "language": "python",
   "name": "python3"
  },
  "language_info": {
   "codemirror_mode": {
    "name": "ipython",
    "version": 3
   },
   "file_extension": ".py",
   "mimetype": "text/x-python",
   "name": "python",
   "nbconvert_exporter": "python",
   "pygments_lexer": "ipython3",
   "version": "3.9.12"
  },
  "orig_nbformat": 4,
  "vscode": {
   "interpreter": {
    "hash": "41a3af9e8a224a38c30b28ede46ccf9b389caf1bbeda9ceffb5dc9a9d4076ee6"
   }
  }
 },
 "nbformat": 4,
 "nbformat_minor": 2
}
